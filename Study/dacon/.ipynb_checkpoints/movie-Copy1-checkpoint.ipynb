{
 "cells": [
  {
   "cell_type": "markdown",
   "id": "641be5d7",
   "metadata": {},
   "source": [
    "https://dacon.io/competitions/open/235536/overview/description\n",
    "\n",
    "데이터 분석 과 머신러닝을 처음 접하시는 분들  \n",
    "혹은 데이콘 대회를 연습으로 경험해보고 싶으신 분들은 \n",
    "해당 대회를 통해 영화 관객수를 예측해 보세요.\n",
    "\n",
    "1. movies_train.csv / movies_test.csv\n",
    "title : 영화의 제목\n",
    "distributor : 배급사\n",
    "genre : 장르\n",
    "release_time : 개봉일\n",
    "time : 상영시간(분)\n",
    "screening_rat : 상영등급\n",
    "director : 감독이름\n",
    "dir_prev_bfnum : 해당 감독이 이 영화를 만들기 전 제작에 참여한 영화에서의 평균 관객수(단 관객수가 알려지지 않은 영화 제외)\n",
    "dir_prev_num : 해당 감독이 이 영화를 만들기 전 제작에 참여한 영화의 개수(단 관객수가 알려지지 않은 영화 제외)\n",
    "num_staff : 스텝수\n",
    "num_actor : 주연배우수\n",
    "box_off_num : 관객수\n",
    "\n",
    "\n",
    "2.  submission.csv (제출 파일 형식)\n",
    "\n",
    "데이터 상세 설명\n",
    "2010년대 한국에서 개봉한 한국영화 600개에 대한 감독, 이름, 상영등급, 관객수 등의 정보가 담긴 데이터"
   ]
  },
  {
   "cell_type": "code",
   "execution_count": 1,
   "id": "117589ba",
   "metadata": {},
   "outputs": [],
   "source": [
    "# !pip install lightgbm\n",
    "# !pip install xgboost"
   ]
  },
  {
   "cell_type": "code",
   "execution_count": 2,
   "id": "1ccd211a",
   "metadata": {},
   "outputs": [],
   "source": [
    "import numpy as np\n",
    "import matplotlib.pyplot as plt\n",
    "import pandas as pd\n",
    "import os\n",
    "import seaborn as sns\n",
    "\n",
    "from sklearn.preprocessing import LabelEncoder\n",
    "\n",
    "if os.name == 'posix':\n",
    "    plt.rc(\"font\", family=\"AppleGothic\")\n",
    "else:\n",
    "    plt.rc(\"font\", family=\"Malgun Gothic\")\n",
    "\n",
    "from sklearn.model_selection import GridSearchCV\n",
    "from sklearn.preprocessing import MinMaxScaler\n",
    "from sklearn.preprocessing import StandardScaler\n",
    "\n",
    "from sklearn.model_selection import train_test_split\n",
    "from sklearn.linear_model import LinearRegression\n",
    "\n",
    "import xgboost as xgb\n",
    "import lightgbm as lgb\n",
    "from lightgbm import LGBMRegressor\n",
    "\n",
    "from tensorflow.keras.layers import Dense\n",
    "from sklearn.metrics import mean_squared_error, r2_score\n"
   ]
  },
  {
   "cell_type": "code",
   "execution_count": 3,
   "id": "c432e13b",
   "metadata": {},
   "outputs": [],
   "source": [
    "path = './dataset/영화 관객수/'"
   ]
  },
  {
   "cell_type": "code",
   "execution_count": 4,
   "id": "b7d65d38",
   "metadata": {},
   "outputs": [],
   "source": [
    "df_train = pd.read_csv(path + 'movies_train.csv')\n",
    "df_test = pd.read_csv(path + 'movies_test.csv')\n",
    "df_submission = pd.read_csv(path + 'submission.csv')"
   ]
  },
  {
   "cell_type": "code",
   "execution_count": 5,
   "id": "a20f5170",
   "metadata": {},
   "outputs": [
    {
     "data": {
      "text/html": [
       "<div>\n",
       "<style scoped>\n",
       "    .dataframe tbody tr th:only-of-type {\n",
       "        vertical-align: middle;\n",
       "    }\n",
       "\n",
       "    .dataframe tbody tr th {\n",
       "        vertical-align: top;\n",
       "    }\n",
       "\n",
       "    .dataframe thead th {\n",
       "        text-align: right;\n",
       "    }\n",
       "</style>\n",
       "<table border=\"1\" class=\"dataframe\">\n",
       "  <thead>\n",
       "    <tr style=\"text-align: right;\">\n",
       "      <th></th>\n",
       "      <th>title</th>\n",
       "      <th>distributor</th>\n",
       "      <th>genre</th>\n",
       "      <th>release_time</th>\n",
       "      <th>time</th>\n",
       "      <th>screening_rat</th>\n",
       "      <th>director</th>\n",
       "      <th>dir_prev_bfnum</th>\n",
       "      <th>dir_prev_num</th>\n",
       "      <th>num_staff</th>\n",
       "      <th>num_actor</th>\n",
       "      <th>box_off_num</th>\n",
       "    </tr>\n",
       "  </thead>\n",
       "  <tbody>\n",
       "    <tr>\n",
       "      <th>0</th>\n",
       "      <td>개들의 전쟁</td>\n",
       "      <td>롯데엔터테인먼트</td>\n",
       "      <td>액션</td>\n",
       "      <td>2012-11-22</td>\n",
       "      <td>96</td>\n",
       "      <td>청소년 관람불가</td>\n",
       "      <td>조병옥</td>\n",
       "      <td>NaN</td>\n",
       "      <td>0</td>\n",
       "      <td>91</td>\n",
       "      <td>2</td>\n",
       "      <td>23398</td>\n",
       "    </tr>\n",
       "    <tr>\n",
       "      <th>1</th>\n",
       "      <td>내부자들</td>\n",
       "      <td>(주)쇼박스</td>\n",
       "      <td>느와르</td>\n",
       "      <td>2015-11-19</td>\n",
       "      <td>130</td>\n",
       "      <td>청소년 관람불가</td>\n",
       "      <td>우민호</td>\n",
       "      <td>1161602.50</td>\n",
       "      <td>2</td>\n",
       "      <td>387</td>\n",
       "      <td>3</td>\n",
       "      <td>7072501</td>\n",
       "    </tr>\n",
       "    <tr>\n",
       "      <th>2</th>\n",
       "      <td>은밀하게 위대하게</td>\n",
       "      <td>(주)쇼박스</td>\n",
       "      <td>액션</td>\n",
       "      <td>2013-06-05</td>\n",
       "      <td>123</td>\n",
       "      <td>15세 관람가</td>\n",
       "      <td>장철수</td>\n",
       "      <td>220775.25</td>\n",
       "      <td>4</td>\n",
       "      <td>343</td>\n",
       "      <td>4</td>\n",
       "      <td>6959083</td>\n",
       "    </tr>\n",
       "    <tr>\n",
       "      <th>3</th>\n",
       "      <td>나는 공무원이다</td>\n",
       "      <td>(주)NEW</td>\n",
       "      <td>코미디</td>\n",
       "      <td>2012-07-12</td>\n",
       "      <td>101</td>\n",
       "      <td>전체 관람가</td>\n",
       "      <td>구자홍</td>\n",
       "      <td>23894.00</td>\n",
       "      <td>2</td>\n",
       "      <td>20</td>\n",
       "      <td>6</td>\n",
       "      <td>217866</td>\n",
       "    </tr>\n",
       "    <tr>\n",
       "      <th>4</th>\n",
       "      <td>불량남녀</td>\n",
       "      <td>쇼박스(주)미디어플렉스</td>\n",
       "      <td>코미디</td>\n",
       "      <td>2010-11-04</td>\n",
       "      <td>108</td>\n",
       "      <td>15세 관람가</td>\n",
       "      <td>신근호</td>\n",
       "      <td>1.00</td>\n",
       "      <td>1</td>\n",
       "      <td>251</td>\n",
       "      <td>2</td>\n",
       "      <td>483387</td>\n",
       "    </tr>\n",
       "    <tr>\n",
       "      <th>...</th>\n",
       "      <td>...</td>\n",
       "      <td>...</td>\n",
       "      <td>...</td>\n",
       "      <td>...</td>\n",
       "      <td>...</td>\n",
       "      <td>...</td>\n",
       "      <td>...</td>\n",
       "      <td>...</td>\n",
       "      <td>...</td>\n",
       "      <td>...</td>\n",
       "      <td>...</td>\n",
       "      <td>...</td>\n",
       "    </tr>\n",
       "    <tr>\n",
       "      <th>595</th>\n",
       "      <td>해무</td>\n",
       "      <td>(주)NEW</td>\n",
       "      <td>드라마</td>\n",
       "      <td>2014-08-13</td>\n",
       "      <td>111</td>\n",
       "      <td>청소년 관람불가</td>\n",
       "      <td>심성보</td>\n",
       "      <td>3833.00</td>\n",
       "      <td>1</td>\n",
       "      <td>510</td>\n",
       "      <td>7</td>\n",
       "      <td>1475091</td>\n",
       "    </tr>\n",
       "    <tr>\n",
       "      <th>596</th>\n",
       "      <td>파파로티</td>\n",
       "      <td>(주)쇼박스</td>\n",
       "      <td>드라마</td>\n",
       "      <td>2013-03-14</td>\n",
       "      <td>127</td>\n",
       "      <td>15세 관람가</td>\n",
       "      <td>윤종찬</td>\n",
       "      <td>496061.00</td>\n",
       "      <td>1</td>\n",
       "      <td>286</td>\n",
       "      <td>6</td>\n",
       "      <td>1716438</td>\n",
       "    </tr>\n",
       "    <tr>\n",
       "      <th>597</th>\n",
       "      <td>살인의 강</td>\n",
       "      <td>(주)마운틴픽쳐스</td>\n",
       "      <td>공포</td>\n",
       "      <td>2010-09-30</td>\n",
       "      <td>99</td>\n",
       "      <td>청소년 관람불가</td>\n",
       "      <td>김대현</td>\n",
       "      <td>NaN</td>\n",
       "      <td>0</td>\n",
       "      <td>123</td>\n",
       "      <td>4</td>\n",
       "      <td>2475</td>\n",
       "    </tr>\n",
       "    <tr>\n",
       "      <th>598</th>\n",
       "      <td>악의 연대기</td>\n",
       "      <td>CJ 엔터테인먼트</td>\n",
       "      <td>느와르</td>\n",
       "      <td>2015-05-14</td>\n",
       "      <td>102</td>\n",
       "      <td>15세 관람가</td>\n",
       "      <td>백운학</td>\n",
       "      <td>NaN</td>\n",
       "      <td>0</td>\n",
       "      <td>431</td>\n",
       "      <td>4</td>\n",
       "      <td>2192525</td>\n",
       "    </tr>\n",
       "    <tr>\n",
       "      <th>599</th>\n",
       "      <td>베를린</td>\n",
       "      <td>CJ 엔터테인먼트</td>\n",
       "      <td>액션</td>\n",
       "      <td>2013-01-30</td>\n",
       "      <td>120</td>\n",
       "      <td>15세 관람가</td>\n",
       "      <td>류승완</td>\n",
       "      <td>NaN</td>\n",
       "      <td>0</td>\n",
       "      <td>363</td>\n",
       "      <td>5</td>\n",
       "      <td>7166532</td>\n",
       "    </tr>\n",
       "  </tbody>\n",
       "</table>\n",
       "<p>600 rows × 12 columns</p>\n",
       "</div>"
      ],
      "text/plain": [
       "         title   distributor genre release_time  time screening_rat director  \\\n",
       "0       개들의 전쟁      롯데엔터테인먼트    액션   2012-11-22    96      청소년 관람불가      조병옥   \n",
       "1         내부자들        (주)쇼박스   느와르   2015-11-19   130      청소년 관람불가      우민호   \n",
       "2    은밀하게 위대하게        (주)쇼박스    액션   2013-06-05   123       15세 관람가      장철수   \n",
       "3     나는 공무원이다        (주)NEW   코미디   2012-07-12   101        전체 관람가      구자홍   \n",
       "4         불량남녀  쇼박스(주)미디어플렉스   코미디   2010-11-04   108       15세 관람가      신근호   \n",
       "..         ...           ...   ...          ...   ...           ...      ...   \n",
       "595         해무        (주)NEW   드라마   2014-08-13   111      청소년 관람불가      심성보   \n",
       "596       파파로티        (주)쇼박스   드라마   2013-03-14   127       15세 관람가      윤종찬   \n",
       "597      살인의 강     (주)마운틴픽쳐스    공포   2010-09-30    99      청소년 관람불가      김대현   \n",
       "598     악의 연대기     CJ 엔터테인먼트   느와르   2015-05-14   102       15세 관람가      백운학   \n",
       "599        베를린     CJ 엔터테인먼트    액션   2013-01-30   120       15세 관람가      류승완   \n",
       "\n",
       "     dir_prev_bfnum  dir_prev_num  num_staff  num_actor  box_off_num  \n",
       "0               NaN             0         91          2        23398  \n",
       "1        1161602.50             2        387          3      7072501  \n",
       "2         220775.25             4        343          4      6959083  \n",
       "3          23894.00             2         20          6       217866  \n",
       "4              1.00             1        251          2       483387  \n",
       "..              ...           ...        ...        ...          ...  \n",
       "595         3833.00             1        510          7      1475091  \n",
       "596       496061.00             1        286          6      1716438  \n",
       "597             NaN             0        123          4         2475  \n",
       "598             NaN             0        431          4      2192525  \n",
       "599             NaN             0        363          5      7166532  \n",
       "\n",
       "[600 rows x 12 columns]"
      ]
     },
     "execution_count": 5,
     "metadata": {},
     "output_type": "execute_result"
    }
   ],
   "source": [
    "df_train"
   ]
  },
  {
   "cell_type": "markdown",
   "id": "cbd46ca5",
   "metadata": {},
   "source": [
    "# 1. 전처리\n"
   ]
  },
  {
   "cell_type": "markdown",
   "id": "27460f9e",
   "metadata": {},
   "source": [
    "### 전처리 방향\n",
    "title은 제목이 겹치는지 1차 확인 -> train과 test에 title이 분명 겹치지 않을것 같은데 이 부분을 어떻게 처리해야하는게 합리적일까..\n",
    "\n",
    "distributor, genre는 라벨링 처리를 해야하는데 갯수를 플랏해볼 필요 있음\n",
    "\n",
    "director는 생각해봐야할 것이 동명이인일 경우 어떻게 해야할지 고민해야함\n",
    "\n",
    "release_time 은 연도와 월만 신경써서 라벨링 해야할거 같음"
   ]
  },
  {
   "cell_type": "markdown",
   "id": "3a26c00b",
   "metadata": {},
   "source": [
    "### 1) Nan 데이터 처리"
   ]
  },
  {
   "cell_type": "code",
   "execution_count": 6,
   "id": "90947cda",
   "metadata": {},
   "outputs": [
    {
     "name": "stdout",
     "output_type": "stream",
     "text": [
      "<class 'pandas.core.frame.DataFrame'>\n",
      "RangeIndex: 600 entries, 0 to 599\n",
      "Data columns (total 12 columns):\n",
      " #   Column          Non-Null Count  Dtype  \n",
      "---  ------          --------------  -----  \n",
      " 0   title           600 non-null    object \n",
      " 1   distributor     600 non-null    object \n",
      " 2   genre           600 non-null    object \n",
      " 3   release_time    600 non-null    object \n",
      " 4   time            600 non-null    int64  \n",
      " 5   screening_rat   600 non-null    object \n",
      " 6   director        600 non-null    object \n",
      " 7   dir_prev_bfnum  270 non-null    float64\n",
      " 8   dir_prev_num    600 non-null    int64  \n",
      " 9   num_staff       600 non-null    int64  \n",
      " 10  num_actor       600 non-null    int64  \n",
      " 11  box_off_num     600 non-null    int64  \n",
      "dtypes: float64(1), int64(5), object(6)\n",
      "memory usage: 56.4+ KB\n",
      "<class 'pandas.core.frame.DataFrame'>\n",
      "RangeIndex: 243 entries, 0 to 242\n",
      "Data columns (total 11 columns):\n",
      " #   Column          Non-Null Count  Dtype  \n",
      "---  ------          --------------  -----  \n",
      " 0   title           243 non-null    object \n",
      " 1   distributor     243 non-null    object \n",
      " 2   genre           243 non-null    object \n",
      " 3   release_time    243 non-null    object \n",
      " 4   time            243 non-null    int64  \n",
      " 5   screening_rat   243 non-null    object \n",
      " 6   director        243 non-null    object \n",
      " 7   dir_prev_bfnum  107 non-null    float64\n",
      " 8   dir_prev_num    243 non-null    int64  \n",
      " 9   num_staff       243 non-null    int64  \n",
      " 10  num_actor       243 non-null    int64  \n",
      "dtypes: float64(1), int64(4), object(6)\n",
      "memory usage: 21.0+ KB\n"
     ]
    },
    {
     "data": {
      "text/plain": [
       "(None, None)"
      ]
     },
     "execution_count": 6,
     "metadata": {},
     "output_type": "execute_result"
    }
   ],
   "source": [
    "df_train.info(), df_test.info()"
   ]
  },
  {
   "cell_type": "code",
   "execution_count": 7,
   "id": "4e145800",
   "metadata": {},
   "outputs": [
    {
     "data": {
      "text/html": [
       "<div>\n",
       "<style scoped>\n",
       "    .dataframe tbody tr th:only-of-type {\n",
       "        vertical-align: middle;\n",
       "    }\n",
       "\n",
       "    .dataframe tbody tr th {\n",
       "        vertical-align: top;\n",
       "    }\n",
       "\n",
       "    .dataframe thead th {\n",
       "        text-align: right;\n",
       "    }\n",
       "</style>\n",
       "<table border=\"1\" class=\"dataframe\">\n",
       "  <thead>\n",
       "    <tr style=\"text-align: right;\">\n",
       "      <th></th>\n",
       "      <th>time</th>\n",
       "      <th>dir_prev_bfnum</th>\n",
       "      <th>dir_prev_num</th>\n",
       "      <th>num_staff</th>\n",
       "      <th>num_actor</th>\n",
       "      <th>box_off_num</th>\n",
       "    </tr>\n",
       "  </thead>\n",
       "  <tbody>\n",
       "    <tr>\n",
       "      <th>count</th>\n",
       "      <td>600.000000</td>\n",
       "      <td>2.700000e+02</td>\n",
       "      <td>600.000000</td>\n",
       "      <td>600.000000</td>\n",
       "      <td>600.000000</td>\n",
       "      <td>6.000000e+02</td>\n",
       "    </tr>\n",
       "    <tr>\n",
       "      <th>mean</th>\n",
       "      <td>100.863333</td>\n",
       "      <td>1.050443e+06</td>\n",
       "      <td>0.876667</td>\n",
       "      <td>151.118333</td>\n",
       "      <td>3.706667</td>\n",
       "      <td>7.081818e+05</td>\n",
       "    </tr>\n",
       "    <tr>\n",
       "      <th>std</th>\n",
       "      <td>18.097528</td>\n",
       "      <td>1.791408e+06</td>\n",
       "      <td>1.183409</td>\n",
       "      <td>165.654671</td>\n",
       "      <td>2.446889</td>\n",
       "      <td>1.828006e+06</td>\n",
       "    </tr>\n",
       "    <tr>\n",
       "      <th>min</th>\n",
       "      <td>45.000000</td>\n",
       "      <td>1.000000e+00</td>\n",
       "      <td>0.000000</td>\n",
       "      <td>0.000000</td>\n",
       "      <td>0.000000</td>\n",
       "      <td>1.000000e+00</td>\n",
       "    </tr>\n",
       "    <tr>\n",
       "      <th>25%</th>\n",
       "      <td>89.000000</td>\n",
       "      <td>2.038000e+04</td>\n",
       "      <td>0.000000</td>\n",
       "      <td>17.000000</td>\n",
       "      <td>2.000000</td>\n",
       "      <td>1.297250e+03</td>\n",
       "    </tr>\n",
       "    <tr>\n",
       "      <th>50%</th>\n",
       "      <td>100.000000</td>\n",
       "      <td>4.784236e+05</td>\n",
       "      <td>0.000000</td>\n",
       "      <td>82.500000</td>\n",
       "      <td>3.000000</td>\n",
       "      <td>1.259100e+04</td>\n",
       "    </tr>\n",
       "    <tr>\n",
       "      <th>75%</th>\n",
       "      <td>114.000000</td>\n",
       "      <td>1.286569e+06</td>\n",
       "      <td>2.000000</td>\n",
       "      <td>264.000000</td>\n",
       "      <td>4.000000</td>\n",
       "      <td>4.798868e+05</td>\n",
       "    </tr>\n",
       "    <tr>\n",
       "      <th>max</th>\n",
       "      <td>180.000000</td>\n",
       "      <td>1.761531e+07</td>\n",
       "      <td>5.000000</td>\n",
       "      <td>869.000000</td>\n",
       "      <td>25.000000</td>\n",
       "      <td>1.426277e+07</td>\n",
       "    </tr>\n",
       "  </tbody>\n",
       "</table>\n",
       "</div>"
      ],
      "text/plain": [
       "             time  dir_prev_bfnum  dir_prev_num   num_staff   num_actor  \\\n",
       "count  600.000000    2.700000e+02    600.000000  600.000000  600.000000   \n",
       "mean   100.863333    1.050443e+06      0.876667  151.118333    3.706667   \n",
       "std     18.097528    1.791408e+06      1.183409  165.654671    2.446889   \n",
       "min     45.000000    1.000000e+00      0.000000    0.000000    0.000000   \n",
       "25%     89.000000    2.038000e+04      0.000000   17.000000    2.000000   \n",
       "50%    100.000000    4.784236e+05      0.000000   82.500000    3.000000   \n",
       "75%    114.000000    1.286569e+06      2.000000  264.000000    4.000000   \n",
       "max    180.000000    1.761531e+07      5.000000  869.000000   25.000000   \n",
       "\n",
       "        box_off_num  \n",
       "count  6.000000e+02  \n",
       "mean   7.081818e+05  \n",
       "std    1.828006e+06  \n",
       "min    1.000000e+00  \n",
       "25%    1.297250e+03  \n",
       "50%    1.259100e+04  \n",
       "75%    4.798868e+05  \n",
       "max    1.426277e+07  "
      ]
     },
     "execution_count": 7,
     "metadata": {},
     "output_type": "execute_result"
    }
   ],
   "source": [
    "df_train.describe()"
   ]
  },
  {
   "cell_type": "markdown",
   "id": "fd48d09c",
   "metadata": {},
   "source": [
    "### dir_prev_bfnum 확인"
   ]
  },
  {
   "cell_type": "code",
   "execution_count": 8,
   "id": "0b51804d",
   "metadata": {},
   "outputs": [
    {
     "name": "stdout",
     "output_type": "stream",
     "text": [
      "Series([], Name: dir_prev_bfnum, dtype: int64)\n",
      "Series([], Name: dir_prev_bfnum, dtype: int64)\n"
     ]
    }
   ],
   "source": [
    "print(df_train[df_train['dir_prev_num'] == 0]['dir_prev_bfnum'].value_counts())\n",
    "print(df_test[df_test['dir_prev_num'] == 0]['dir_prev_bfnum'].value_counts())"
   ]
  },
  {
   "cell_type": "code",
   "execution_count": 9,
   "id": "311ebfdc",
   "metadata": {},
   "outputs": [],
   "source": [
    "df_train['dir_prev_bfnum'].fillna(0, inplace=True)\n",
    "df_test['dir_prev_bfnum'].fillna(0, inplace=True)"
   ]
  },
  {
   "cell_type": "markdown",
   "id": "1be8c6fe",
   "metadata": {},
   "source": [
    "### title 확인"
   ]
  },
  {
   "cell_type": "markdown",
   "id": "c4f48625",
   "metadata": {},
   "source": [
    "#### train 데이터, test 데이터 각각 title 내에서 중복 확인"
   ]
  },
  {
   "cell_type": "code",
   "execution_count": 10,
   "id": "b659390e",
   "metadata": {},
   "outputs": [
    {
     "name": "stdout",
     "output_type": "stream",
     "text": [
      "[]\n",
      "[]\n"
     ]
    }
   ],
   "source": [
    "print([df_train.title[i]  for i in range(len(df_train)) if df_train.title.value_counts()[i] != 1])\n",
    "print([df_test.title[i]  for i in range(len(df_test)) if df_test.title.value_counts()[i] != 1])"
   ]
  },
  {
   "cell_type": "markdown",
   "id": "aac623d3",
   "metadata": {},
   "source": [
    "#### train 데이터와 test 데이터 title 중복 확인"
   ]
  },
  {
   "cell_type": "code",
   "execution_count": 11,
   "id": "7b80a614",
   "metadata": {},
   "outputs": [
    {
     "data": {
      "text/plain": [
       "set()"
      ]
     },
     "execution_count": 11,
     "metadata": {},
     "output_type": "execute_result"
    }
   ],
   "source": [
    "set(df_train['title']) & set(df_test['title'])"
   ]
  },
  {
   "cell_type": "code",
   "execution_count": 12,
   "id": "99e2b31c",
   "metadata": {},
   "outputs": [],
   "source": [
    "# df_train.index = df_train['title']\n",
    "# df_test.index = df_test['title']\n",
    "\n",
    "df_train.drop(columns='title', inplace=True)\n",
    "df_test.drop(columns='title', inplace=True)"
   ]
  },
  {
   "cell_type": "markdown",
   "id": "dd40ec6d",
   "metadata": {},
   "source": [
    "### 배급사에 따라 관객 수가 달라질까?\n",
    "\n",
    "제작사 train 과 test가 서로 겹치지 않는 것들이 있음\n",
    "\n",
    "1. 겹치는 것들은 각 제작사의 평균 관객 수를 적용\n",
    "2. 겹치지 않는 것들은 train 기준으로 제작사 리스트를 만들어 이들의 평균을 구해 적용"
   ]
  },
  {
   "cell_type": "code",
   "execution_count": 13,
   "id": "54019dc9",
   "metadata": {},
   "outputs": [],
   "source": [
    "df_train_db = df_train.groupby('distributor').count()"
   ]
  },
  {
   "cell_type": "code",
   "execution_count": 14,
   "id": "789da013",
   "metadata": {},
   "outputs": [
    {
     "data": {
      "text/plain": [
       "distributor\n",
       "마법사필름               1\n",
       "와이드 릴리즈(주)          1\n",
       "와이드릴리즈(주)           1\n",
       "두 엔터테인먼트            1\n",
       "동국대학교 충무로영상제작센터     1\n",
       "                   ..\n",
       "인디스토리              26\n",
       "(주)마운틴픽쳐스          29\n",
       "(주)NEW             30\n",
       "롯데엔터테인먼트           52\n",
       "CJ 엔터테인먼트          54\n",
       "Name: box_off_num, Length: 169, dtype: int64"
      ]
     },
     "execution_count": 14,
     "metadata": {},
     "output_type": "execute_result"
    }
   ],
   "source": [
    "# plt.bar(df_train_db['box_off_num'].sort_values().index, df_train_db['box_off_num'].sort_values())\n",
    "# plt.xticks(rotation = 90)\n",
    "# plt.show()\n",
    "df_train_db['box_off_num'].sort_values()"
   ]
  },
  {
   "cell_type": "code",
   "execution_count": 15,
   "id": "51454aae",
   "metadata": {},
   "outputs": [
    {
     "data": {
      "text/plain": [
       "54"
      ]
     },
     "execution_count": 15,
     "metadata": {},
     "output_type": "execute_result"
    }
   ],
   "source": [
    "dist_name = list(df_train['distributor'].unique())\n",
    "dist_avg = [df_train[ df_train['distributor'] == i]['box_off_num'].mean()  for i in dist_name]\n",
    "\n",
    "df_train_db.loc['CJ 엔터테인먼트', :]['box_off_num']\n",
    "# plt.bar(dist_name, dist_avg)\n",
    "# plt.xticks(rotation = 90)\n",
    "# plt.show()"
   ]
  },
  {
   "cell_type": "code",
   "execution_count": 16,
   "id": "ece5bdf2",
   "metadata": {},
   "outputs": [
    {
     "data": {
      "text/html": [
       "<div>\n",
       "<style scoped>\n",
       "    .dataframe tbody tr th:only-of-type {\n",
       "        vertical-align: middle;\n",
       "    }\n",
       "\n",
       "    .dataframe tbody tr th {\n",
       "        vertical-align: top;\n",
       "    }\n",
       "\n",
       "    .dataframe thead th {\n",
       "        text-align: right;\n",
       "    }\n",
       "</style>\n",
       "<table border=\"1\" class=\"dataframe\">\n",
       "  <thead>\n",
       "    <tr style=\"text-align: right;\">\n",
       "      <th></th>\n",
       "      <th>box_off_num_avg</th>\n",
       "      <th>box_off_num</th>\n",
       "    </tr>\n",
       "  </thead>\n",
       "  <tbody>\n",
       "    <tr>\n",
       "      <th>롯데엔터테인먼트</th>\n",
       "      <td>1.238149e+06</td>\n",
       "      <td>52</td>\n",
       "    </tr>\n",
       "    <tr>\n",
       "      <th>(주)쇼박스</th>\n",
       "      <td>3.386656e+06</td>\n",
       "      <td>26</td>\n",
       "    </tr>\n",
       "    <tr>\n",
       "      <th>(주)NEW</th>\n",
       "      <td>2.184405e+06</td>\n",
       "      <td>30</td>\n",
       "    </tr>\n",
       "    <tr>\n",
       "      <th>쇼박스(주)미디어플렉스</th>\n",
       "      <td>2.634823e+06</td>\n",
       "      <td>2</td>\n",
       "    </tr>\n",
       "    <tr>\n",
       "      <th>백두대간</th>\n",
       "      <td>2.728300e+04</td>\n",
       "      <td>2</td>\n",
       "    </tr>\n",
       "    <tr>\n",
       "      <th>...</th>\n",
       "      <td>...</td>\n",
       "      <td>...</td>\n",
       "    </tr>\n",
       "    <tr>\n",
       "      <th>영화사 廊</th>\n",
       "      <td>7.173000e+03</td>\n",
       "      <td>1</td>\n",
       "    </tr>\n",
       "    <tr>\n",
       "      <th>크리에이티브컴즈(주)</th>\n",
       "      <td>1.880000e+02</td>\n",
       "      <td>1</td>\n",
       "    </tr>\n",
       "    <tr>\n",
       "      <th>ysfilm</th>\n",
       "      <td>1.720000e+02</td>\n",
       "      <td>1</td>\n",
       "    </tr>\n",
       "    <tr>\n",
       "      <th>이달투</th>\n",
       "      <td>3.556700e+04</td>\n",
       "      <td>1</td>\n",
       "    </tr>\n",
       "    <tr>\n",
       "      <th>퍼스트런</th>\n",
       "      <td>1.132000e+03</td>\n",
       "      <td>1</td>\n",
       "    </tr>\n",
       "  </tbody>\n",
       "</table>\n",
       "<p>169 rows × 2 columns</p>\n",
       "</div>"
      ],
      "text/plain": [
       "              box_off_num_avg  box_off_num\n",
       "롯데엔터테인먼트         1.238149e+06           52\n",
       "(주)쇼박스           3.386656e+06           26\n",
       "(주)NEW           2.184405e+06           30\n",
       "쇼박스(주)미디어플렉스     2.634823e+06            2\n",
       "백두대간             2.728300e+04            2\n",
       "...                       ...          ...\n",
       "영화사 廊            7.173000e+03            1\n",
       "크리에이티브컴즈(주)      1.880000e+02            1\n",
       "ysfilm           1.720000e+02            1\n",
       "이달투              3.556700e+04            1\n",
       "퍼스트런             1.132000e+03            1\n",
       "\n",
       "[169 rows x 2 columns]"
      ]
     },
     "execution_count": 16,
     "metadata": {},
     "output_type": "execute_result"
    }
   ],
   "source": [
    "df_train_db_avg = pd.DataFrame(dist_avg, index=dist_name)\n",
    "\n",
    "df_train_db_avg = df_train_db_avg.rename(columns={0 : 'box_off_num_avg'})\n",
    "\n",
    "df_train_db_avg['box_off_num'] = df_train_db['box_off_num']\n",
    "df_train_db_avg\n",
    "\n",
    "# plt.figure(figsize=(70,40))\n",
    "# plt.subplot(2,1,1)\n",
    "# plt.plot(df_train_db_avg.index, df_train_db_avg.iloc[:,0])\n",
    "# plt.xticks(rotation = 90)\n",
    "\n",
    "# plt.subplot(2,1,2)\n",
    "# plt.plot(df_train_db_avg.index, df_train_db_avg.iloc[:,1])\n",
    "# plt.xticks(rotation = 90)\n",
    "\n",
    "# plt.show()\n",
    "# plt.close()"
   ]
  },
  {
   "cell_type": "code",
   "execution_count": 17,
   "id": "0e6c17fa",
   "metadata": {},
   "outputs": [],
   "source": [
    "df_common_dist = list(set(df_train['distributor']) & set(df_test['distributor']))\n",
    "df_only_train_dist = list(set(df_train['distributor']) - set(df_test['distributor']))\n",
    "df_only_test_dist = list(set(df_test['distributor']) - set(df_train['distributor']))"
   ]
  },
  {
   "cell_type": "code",
   "execution_count": 18,
   "id": "395fcc42",
   "metadata": {},
   "outputs": [
    {
     "data": {
      "text/plain": [
       "3598.3333333333335"
      ]
     },
     "execution_count": 18,
     "metadata": {},
     "output_type": "execute_result"
    }
   ],
   "source": [
    "df_train[df_train['distributor'] == df_only_train_dist[0]]\n",
    "df_train_db_avg.loc[df_only_train_dist, 'box_off_num_avg'].median()\n"
   ]
  },
  {
   "cell_type": "code",
   "execution_count": 19,
   "id": "7a676e84",
   "metadata": {},
   "outputs": [
    {
     "data": {
      "text/html": [
       "<div>\n",
       "<style scoped>\n",
       "    .dataframe tbody tr th:only-of-type {\n",
       "        vertical-align: middle;\n",
       "    }\n",
       "\n",
       "    .dataframe tbody tr th {\n",
       "        vertical-align: top;\n",
       "    }\n",
       "\n",
       "    .dataframe thead th {\n",
       "        text-align: right;\n",
       "    }\n",
       "</style>\n",
       "<table border=\"1\" class=\"dataframe\">\n",
       "  <thead>\n",
       "    <tr style=\"text-align: right;\">\n",
       "      <th></th>\n",
       "      <th>distributor</th>\n",
       "      <th>genre</th>\n",
       "      <th>release_time</th>\n",
       "      <th>time</th>\n",
       "      <th>screening_rat</th>\n",
       "      <th>director</th>\n",
       "      <th>dir_prev_bfnum</th>\n",
       "      <th>dir_prev_num</th>\n",
       "      <th>num_staff</th>\n",
       "      <th>num_actor</th>\n",
       "      <th>box_off_num</th>\n",
       "    </tr>\n",
       "  </thead>\n",
       "  <tbody>\n",
       "    <tr>\n",
       "      <th>138</th>\n",
       "      <td>필라멘트 픽쳐스</td>\n",
       "      <td>드라마</td>\n",
       "      <td>2014-11-13</td>\n",
       "      <td>108</td>\n",
       "      <td>12세 관람가</td>\n",
       "      <td>김태용</td>\n",
       "      <td>4074.0</td>\n",
       "      <td>2</td>\n",
       "      <td>244</td>\n",
       "      <td>3</td>\n",
       "      <td>24020</td>\n",
       "    </tr>\n",
       "    <tr>\n",
       "      <th>200</th>\n",
       "      <td>필라멘트 픽쳐스</td>\n",
       "      <td>드라마</td>\n",
       "      <td>2015-10-22</td>\n",
       "      <td>93</td>\n",
       "      <td>12세 관람가</td>\n",
       "      <td>권오광</td>\n",
       "      <td>0.0</td>\n",
       "      <td>0</td>\n",
       "      <td>282</td>\n",
       "      <td>3</td>\n",
       "      <td>100543</td>\n",
       "    </tr>\n",
       "    <tr>\n",
       "      <th>231</th>\n",
       "      <td>필라멘트 픽쳐스</td>\n",
       "      <td>드라마</td>\n",
       "      <td>2013-02-28</td>\n",
       "      <td>85</td>\n",
       "      <td>12세 관람가</td>\n",
       "      <td>이재용</td>\n",
       "      <td>495068.5</td>\n",
       "      <td>2</td>\n",
       "      <td>173</td>\n",
       "      <td>14</td>\n",
       "      <td>5317</td>\n",
       "    </tr>\n",
       "    <tr>\n",
       "      <th>494</th>\n",
       "      <td>필라멘트 픽쳐스</td>\n",
       "      <td>미스터리</td>\n",
       "      <td>2012-03-08</td>\n",
       "      <td>117</td>\n",
       "      <td>15세 관람가</td>\n",
       "      <td>변영주</td>\n",
       "      <td>43734.0</td>\n",
       "      <td>2</td>\n",
       "      <td>308</td>\n",
       "      <td>3</td>\n",
       "      <td>2436884</td>\n",
       "    </tr>\n",
       "    <tr>\n",
       "      <th>518</th>\n",
       "      <td>필라멘트 픽쳐스</td>\n",
       "      <td>코미디</td>\n",
       "      <td>2012-08-30</td>\n",
       "      <td>99</td>\n",
       "      <td>15세 관람가</td>\n",
       "      <td>이근우</td>\n",
       "      <td>1198419.5</td>\n",
       "      <td>2</td>\n",
       "      <td>150</td>\n",
       "      <td>2</td>\n",
       "      <td>96080</td>\n",
       "    </tr>\n",
       "    <tr>\n",
       "      <th>557</th>\n",
       "      <td>필라멘트 픽쳐스</td>\n",
       "      <td>다큐멘터리</td>\n",
       "      <td>2014-12-04</td>\n",
       "      <td>95</td>\n",
       "      <td>12세 관람가</td>\n",
       "      <td>이창재</td>\n",
       "      <td>0.0</td>\n",
       "      <td>0</td>\n",
       "      <td>139</td>\n",
       "      <td>4</td>\n",
       "      <td>38771</td>\n",
       "    </tr>\n",
       "  </tbody>\n",
       "</table>\n",
       "</div>"
      ],
      "text/plain": [
       "    distributor  genre release_time  time screening_rat director  \\\n",
       "138    필라멘트 픽쳐스    드라마   2014-11-13   108       12세 관람가      김태용   \n",
       "200    필라멘트 픽쳐스    드라마   2015-10-22    93       12세 관람가      권오광   \n",
       "231    필라멘트 픽쳐스    드라마   2013-02-28    85       12세 관람가      이재용   \n",
       "494    필라멘트 픽쳐스   미스터리   2012-03-08   117       15세 관람가      변영주   \n",
       "518    필라멘트 픽쳐스    코미디   2012-08-30    99       15세 관람가      이근우   \n",
       "557    필라멘트 픽쳐스  다큐멘터리   2014-12-04    95       12세 관람가      이창재   \n",
       "\n",
       "     dir_prev_bfnum  dir_prev_num  num_staff  num_actor  box_off_num  \n",
       "138          4074.0             2        244          3        24020  \n",
       "200             0.0             0        282          3       100543  \n",
       "231        495068.5             2        173         14         5317  \n",
       "494         43734.0             2        308          3      2436884  \n",
       "518       1198419.5             2        150          2        96080  \n",
       "557             0.0             0        139          4        38771  "
      ]
     },
     "execution_count": 19,
     "metadata": {},
     "output_type": "execute_result"
    }
   ],
   "source": [
    "df_train[df_train['distributor'] == df_common_dist[0]]"
   ]
  },
  {
   "cell_type": "code",
   "execution_count": 20,
   "id": "22bcf6f1",
   "metadata": {},
   "outputs": [
    {
     "data": {
      "text/html": [
       "<div>\n",
       "<style scoped>\n",
       "    .dataframe tbody tr th:only-of-type {\n",
       "        vertical-align: middle;\n",
       "    }\n",
       "\n",
       "    .dataframe tbody tr th {\n",
       "        vertical-align: top;\n",
       "    }\n",
       "\n",
       "    .dataframe thead th {\n",
       "        text-align: right;\n",
       "    }\n",
       "</style>\n",
       "<table border=\"1\" class=\"dataframe\">\n",
       "  <thead>\n",
       "    <tr style=\"text-align: right;\">\n",
       "      <th></th>\n",
       "      <th>box_off_num_avg</th>\n",
       "      <th>box_off_num</th>\n",
       "    </tr>\n",
       "  </thead>\n",
       "  <tbody>\n",
       "    <tr>\n",
       "      <th>count</th>\n",
       "      <td>1.110000e+02</td>\n",
       "      <td>111.000000</td>\n",
       "    </tr>\n",
       "    <tr>\n",
       "      <th>mean</th>\n",
       "      <td>1.630736e+05</td>\n",
       "      <td>1.342342</td>\n",
       "    </tr>\n",
       "    <tr>\n",
       "      <th>std</th>\n",
       "      <td>4.998157e+05</td>\n",
       "      <td>0.858069</td>\n",
       "    </tr>\n",
       "    <tr>\n",
       "      <th>min</th>\n",
       "      <td>2.000000e+00</td>\n",
       "      <td>1.000000</td>\n",
       "    </tr>\n",
       "    <tr>\n",
       "      <th>25%</th>\n",
       "      <td>8.618333e+02</td>\n",
       "      <td>1.000000</td>\n",
       "    </tr>\n",
       "    <tr>\n",
       "      <th>50%</th>\n",
       "      <td>3.598333e+03</td>\n",
       "      <td>1.000000</td>\n",
       "    </tr>\n",
       "    <tr>\n",
       "      <th>75%</th>\n",
       "      <td>1.847350e+04</td>\n",
       "      <td>1.000000</td>\n",
       "    </tr>\n",
       "    <tr>\n",
       "      <th>max</th>\n",
       "      <td>3.117859e+06</td>\n",
       "      <td>7.000000</td>\n",
       "    </tr>\n",
       "  </tbody>\n",
       "</table>\n",
       "</div>"
      ],
      "text/plain": [
       "       box_off_num_avg  box_off_num\n",
       "count     1.110000e+02   111.000000\n",
       "mean      1.630736e+05     1.342342\n",
       "std       4.998157e+05     0.858069\n",
       "min       2.000000e+00     1.000000\n",
       "25%       8.618333e+02     1.000000\n",
       "50%       3.598333e+03     1.000000\n",
       "75%       1.847350e+04     1.000000\n",
       "max       3.117859e+06     7.000000"
      ]
     },
     "execution_count": 20,
     "metadata": {},
     "output_type": "execute_result"
    }
   ],
   "source": [
    "df_train_db_avg.loc[df_only_train_dist].describe()"
   ]
  },
  {
   "cell_type": "code",
   "execution_count": 21,
   "id": "55b96635",
   "metadata": {},
   "outputs": [],
   "source": [
    "for i in range(len(df_common_dist)):\n",
    "    df_train['distributor'].replace(df_common_dist[i], df_train_db_avg.loc[df_common_dist[i], 'box_off_num_avg'], inplace=True)\n",
    "    df_test['distributor'].replace(df_common_dist[i], df_train_db_avg.loc[df_common_dist[i], 'box_off_num_avg'], inplace=True)\n",
    "    \n",
    "# 중앙값 삽입\n",
    "for i in range(len(df_only_train_dist)):\n",
    "    df_train['distributor'].replace(df_only_train_dist[i], df_train_db_avg.loc[df_only_train_dist, 'box_off_num_avg'].median(), inplace=True)\n",
    "\n",
    "for i in range(len(df_only_test_dist)):\n",
    "    df_test['distributor'].replace(df_only_test_dist[i], df_train_db_avg.loc[df_only_train_dist, 'box_off_num_avg'].median(), inplace=True)\n",
    "    "
   ]
  },
  {
   "cell_type": "code",
   "execution_count": 22,
   "id": "0e91ecf5",
   "metadata": {},
   "outputs": [
    {
     "data": {
      "text/html": [
       "<div>\n",
       "<style scoped>\n",
       "    .dataframe tbody tr th:only-of-type {\n",
       "        vertical-align: middle;\n",
       "    }\n",
       "\n",
       "    .dataframe tbody tr th {\n",
       "        vertical-align: top;\n",
       "    }\n",
       "\n",
       "    .dataframe thead th {\n",
       "        text-align: right;\n",
       "    }\n",
       "</style>\n",
       "<table border=\"1\" class=\"dataframe\">\n",
       "  <thead>\n",
       "    <tr style=\"text-align: right;\">\n",
       "      <th></th>\n",
       "      <th>distributor</th>\n",
       "      <th>genre</th>\n",
       "      <th>release_time</th>\n",
       "      <th>time</th>\n",
       "      <th>screening_rat</th>\n",
       "      <th>director</th>\n",
       "      <th>dir_prev_bfnum</th>\n",
       "      <th>dir_prev_num</th>\n",
       "      <th>num_staff</th>\n",
       "      <th>num_actor</th>\n",
       "      <th>box_off_num</th>\n",
       "    </tr>\n",
       "  </thead>\n",
       "  <tbody>\n",
       "    <tr>\n",
       "      <th>0</th>\n",
       "      <td>1.238149e+06</td>\n",
       "      <td>액션</td>\n",
       "      <td>2012-11-22</td>\n",
       "      <td>96</td>\n",
       "      <td>청소년 관람불가</td>\n",
       "      <td>조병옥</td>\n",
       "      <td>0.00</td>\n",
       "      <td>0</td>\n",
       "      <td>91</td>\n",
       "      <td>2</td>\n",
       "      <td>23398</td>\n",
       "    </tr>\n",
       "    <tr>\n",
       "      <th>1</th>\n",
       "      <td>3.386656e+06</td>\n",
       "      <td>느와르</td>\n",
       "      <td>2015-11-19</td>\n",
       "      <td>130</td>\n",
       "      <td>청소년 관람불가</td>\n",
       "      <td>우민호</td>\n",
       "      <td>1161602.50</td>\n",
       "      <td>2</td>\n",
       "      <td>387</td>\n",
       "      <td>3</td>\n",
       "      <td>7072501</td>\n",
       "    </tr>\n",
       "    <tr>\n",
       "      <th>2</th>\n",
       "      <td>3.386656e+06</td>\n",
       "      <td>액션</td>\n",
       "      <td>2013-06-05</td>\n",
       "      <td>123</td>\n",
       "      <td>15세 관람가</td>\n",
       "      <td>장철수</td>\n",
       "      <td>220775.25</td>\n",
       "      <td>4</td>\n",
       "      <td>343</td>\n",
       "      <td>4</td>\n",
       "      <td>6959083</td>\n",
       "    </tr>\n",
       "    <tr>\n",
       "      <th>3</th>\n",
       "      <td>2.184405e+06</td>\n",
       "      <td>코미디</td>\n",
       "      <td>2012-07-12</td>\n",
       "      <td>101</td>\n",
       "      <td>전체 관람가</td>\n",
       "      <td>구자홍</td>\n",
       "      <td>23894.00</td>\n",
       "      <td>2</td>\n",
       "      <td>20</td>\n",
       "      <td>6</td>\n",
       "      <td>217866</td>\n",
       "    </tr>\n",
       "    <tr>\n",
       "      <th>4</th>\n",
       "      <td>2.634823e+06</td>\n",
       "      <td>코미디</td>\n",
       "      <td>2010-11-04</td>\n",
       "      <td>108</td>\n",
       "      <td>15세 관람가</td>\n",
       "      <td>신근호</td>\n",
       "      <td>1.00</td>\n",
       "      <td>1</td>\n",
       "      <td>251</td>\n",
       "      <td>2</td>\n",
       "      <td>483387</td>\n",
       "    </tr>\n",
       "    <tr>\n",
       "      <th>...</th>\n",
       "      <td>...</td>\n",
       "      <td>...</td>\n",
       "      <td>...</td>\n",
       "      <td>...</td>\n",
       "      <td>...</td>\n",
       "      <td>...</td>\n",
       "      <td>...</td>\n",
       "      <td>...</td>\n",
       "      <td>...</td>\n",
       "      <td>...</td>\n",
       "      <td>...</td>\n",
       "    </tr>\n",
       "    <tr>\n",
       "      <th>595</th>\n",
       "      <td>2.184405e+06</td>\n",
       "      <td>드라마</td>\n",
       "      <td>2014-08-13</td>\n",
       "      <td>111</td>\n",
       "      <td>청소년 관람불가</td>\n",
       "      <td>심성보</td>\n",
       "      <td>3833.00</td>\n",
       "      <td>1</td>\n",
       "      <td>510</td>\n",
       "      <td>7</td>\n",
       "      <td>1475091</td>\n",
       "    </tr>\n",
       "    <tr>\n",
       "      <th>596</th>\n",
       "      <td>3.386656e+06</td>\n",
       "      <td>드라마</td>\n",
       "      <td>2013-03-14</td>\n",
       "      <td>127</td>\n",
       "      <td>15세 관람가</td>\n",
       "      <td>윤종찬</td>\n",
       "      <td>496061.00</td>\n",
       "      <td>1</td>\n",
       "      <td>286</td>\n",
       "      <td>6</td>\n",
       "      <td>1716438</td>\n",
       "    </tr>\n",
       "    <tr>\n",
       "      <th>597</th>\n",
       "      <td>3.234221e+04</td>\n",
       "      <td>공포</td>\n",
       "      <td>2010-09-30</td>\n",
       "      <td>99</td>\n",
       "      <td>청소년 관람불가</td>\n",
       "      <td>김대현</td>\n",
       "      <td>0.00</td>\n",
       "      <td>0</td>\n",
       "      <td>123</td>\n",
       "      <td>4</td>\n",
       "      <td>2475</td>\n",
       "    </tr>\n",
       "    <tr>\n",
       "      <th>598</th>\n",
       "      <td>2.162742e+06</td>\n",
       "      <td>느와르</td>\n",
       "      <td>2015-05-14</td>\n",
       "      <td>102</td>\n",
       "      <td>15세 관람가</td>\n",
       "      <td>백운학</td>\n",
       "      <td>0.00</td>\n",
       "      <td>0</td>\n",
       "      <td>431</td>\n",
       "      <td>4</td>\n",
       "      <td>2192525</td>\n",
       "    </tr>\n",
       "    <tr>\n",
       "      <th>599</th>\n",
       "      <td>2.162742e+06</td>\n",
       "      <td>액션</td>\n",
       "      <td>2013-01-30</td>\n",
       "      <td>120</td>\n",
       "      <td>15세 관람가</td>\n",
       "      <td>류승완</td>\n",
       "      <td>0.00</td>\n",
       "      <td>0</td>\n",
       "      <td>363</td>\n",
       "      <td>5</td>\n",
       "      <td>7166532</td>\n",
       "    </tr>\n",
       "  </tbody>\n",
       "</table>\n",
       "<p>600 rows × 11 columns</p>\n",
       "</div>"
      ],
      "text/plain": [
       "      distributor genre release_time  time screening_rat director  \\\n",
       "0    1.238149e+06    액션   2012-11-22    96      청소년 관람불가      조병옥   \n",
       "1    3.386656e+06   느와르   2015-11-19   130      청소년 관람불가      우민호   \n",
       "2    3.386656e+06    액션   2013-06-05   123       15세 관람가      장철수   \n",
       "3    2.184405e+06   코미디   2012-07-12   101        전체 관람가      구자홍   \n",
       "4    2.634823e+06   코미디   2010-11-04   108       15세 관람가      신근호   \n",
       "..            ...   ...          ...   ...           ...      ...   \n",
       "595  2.184405e+06   드라마   2014-08-13   111      청소년 관람불가      심성보   \n",
       "596  3.386656e+06   드라마   2013-03-14   127       15세 관람가      윤종찬   \n",
       "597  3.234221e+04    공포   2010-09-30    99      청소년 관람불가      김대현   \n",
       "598  2.162742e+06   느와르   2015-05-14   102       15세 관람가      백운학   \n",
       "599  2.162742e+06    액션   2013-01-30   120       15세 관람가      류승완   \n",
       "\n",
       "     dir_prev_bfnum  dir_prev_num  num_staff  num_actor  box_off_num  \n",
       "0              0.00             0         91          2        23398  \n",
       "1        1161602.50             2        387          3      7072501  \n",
       "2         220775.25             4        343          4      6959083  \n",
       "3          23894.00             2         20          6       217866  \n",
       "4              1.00             1        251          2       483387  \n",
       "..              ...           ...        ...        ...          ...  \n",
       "595         3833.00             1        510          7      1475091  \n",
       "596       496061.00             1        286          6      1716438  \n",
       "597            0.00             0        123          4         2475  \n",
       "598            0.00             0        431          4      2192525  \n",
       "599            0.00             0        363          5      7166532  \n",
       "\n",
       "[600 rows x 11 columns]"
      ]
     },
     "execution_count": 22,
     "metadata": {},
     "output_type": "execute_result"
    }
   ],
   "source": [
    "df_train"
   ]
  },
  {
   "cell_type": "markdown",
   "id": "2e3ee632",
   "metadata": {},
   "source": [
    "### 장르에 따라 관객 수에 영향을 줄까?"
   ]
  },
  {
   "cell_type": "code",
   "execution_count": 23,
   "id": "ebe356b1",
   "metadata": {},
   "outputs": [
    {
     "data": {
      "image/png": "[encoded data removed]",
      "text/plain": [
       "<Figure size 432x288 with 1 Axes>"
      ]
     },
     "metadata": {
      "needs_background": "light"
     },
     "output_type": "display_data"
    }
   ],
   "source": [
    "df_train_genre = df_train.groupby('genre').count()\n",
    "plt.bar(df_train_genre['box_off_num'].sort_values().index, df_train_genre['box_off_num'].sort_values())\n",
    "plt.xticks(rotation = 90)\n",
    "plt.show()"
   ]
  },
  {
   "cell_type": "code",
   "execution_count": 24,
   "id": "47d2d3b5",
   "metadata": {},
   "outputs": [
    {
     "data": {
      "text/plain": [
       "genre\n",
       "서스펜스        2\n",
       "뮤지컬         5\n",
       "SF         13\n",
       "미스터리       17\n",
       "애니메이션      21\n",
       "느와르        27\n",
       "액션         28\n",
       "공포         42\n",
       "코미디        53\n",
       "멜로/로맨스     78\n",
       "다큐멘터리      93\n",
       "드라마       221\n",
       "Name: box_off_num, dtype: int64"
      ]
     },
     "execution_count": 24,
     "metadata": {},
     "output_type": "execute_result"
    }
   ],
   "source": [
    "df_train_genre['box_off_num'].sort_values()"
   ]
  },
  {
   "cell_type": "code",
   "execution_count": 25,
   "id": "ae1a6174",
   "metadata": {},
   "outputs": [],
   "source": [
    "genre_name = df_train_genre['box_off_num'].sort_values().index\n",
    "genre_avg = [df_train[ df_train['genre'] == i]['box_off_num'].mean()  for i in genre_name]"
   ]
  },
  {
   "cell_type": "code",
   "execution_count": 26,
   "id": "e3d9bddf",
   "metadata": {},
   "outputs": [
    {
     "data": {
      "image/png": "[encoded data removed]",
      "text/plain": [
       "<Figure size 432x288 with 1 Axes>"
      ]
     },
     "metadata": {
      "needs_background": "light"
     },
     "output_type": "display_data"
    }
   ],
   "source": [
    "plt.bar(genre_name, genre_avg)\n",
    "plt.xticks(rotation = 90)\n",
    "plt.show()"
   ]
  },
  {
   "cell_type": "code",
   "execution_count": 27,
   "id": "ddee65ae",
   "metadata": {},
   "outputs": [
    {
     "name": "stdout",
     "output_type": "stream",
     "text": [
      "<class 'pandas.core.frame.DataFrame'>\n",
      "RangeIndex: 600 entries, 0 to 599\n",
      "Data columns (total 11 columns):\n",
      " #   Column          Non-Null Count  Dtype  \n",
      "---  ------          --------------  -----  \n",
      " 0   distributor     600 non-null    float64\n",
      " 1   genre           600 non-null    object \n",
      " 2   release_time    600 non-null    object \n",
      " 3   time            600 non-null    int64  \n",
      " 4   screening_rat   600 non-null    object \n",
      " 5   director        600 non-null    object \n",
      " 6   dir_prev_bfnum  600 non-null    float64\n",
      " 7   dir_prev_num    600 non-null    int64  \n",
      " 8   num_staff       600 non-null    int64  \n",
      " 9   num_actor       600 non-null    int64  \n",
      " 10  box_off_num     600 non-null    int64  \n",
      "dtypes: float64(2), int64(5), object(4)\n",
      "memory usage: 51.7+ KB\n",
      "<class 'pandas.core.frame.DataFrame'>\n",
      "RangeIndex: 243 entries, 0 to 242\n",
      "Data columns (total 10 columns):\n",
      " #   Column          Non-Null Count  Dtype  \n",
      "---  ------          --------------  -----  \n",
      " 0   distributor     243 non-null    float64\n",
      " 1   genre           243 non-null    object \n",
      " 2   release_time    243 non-null    object \n",
      " 3   time            243 non-null    int64  \n",
      " 4   screening_rat   243 non-null    object \n",
      " 5   director        243 non-null    object \n",
      " 6   dir_prev_bfnum  243 non-null    float64\n",
      " 7   dir_prev_num    243 non-null    int64  \n",
      " 8   num_staff       243 non-null    int64  \n",
      " 9   num_actor       243 non-null    int64  \n",
      "dtypes: float64(2), int64(4), object(4)\n",
      "memory usage: 19.1+ KB\n"
     ]
    },
    {
     "data": {
      "text/plain": [
       "(None, None)"
      ]
     },
     "execution_count": 27,
     "metadata": {},
     "output_type": "execute_result"
    }
   ],
   "source": [
    "df_train.info(), df_test.info()"
   ]
  },
  {
   "cell_type": "code",
   "execution_count": 28,
   "id": "4cc71610",
   "metadata": {},
   "outputs": [
    {
     "name": "stderr",
     "output_type": "stream",
     "text": [
      "C:\\Users\\HPE\\AppData\\Local\\Temp/ipykernel_1536/2274421252.py:7: SettingWithCopyWarning: \n",
      "A value is trying to be set on a copy of a slice from a DataFrame\n",
      "\n",
      "See the caveats in the documentation: https://pandas.pydata.org/pandas-docs/stable/user_guide/indexing.html#returning-a-view-versus-a-copy\n",
      "  df_train['genre'][i] = genre_avg[ii]\n",
      "C:\\Users\\HPE\\AppData\\Local\\Temp/ipykernel_1536/2274421252.py:12: SettingWithCopyWarning: \n",
      "A value is trying to be set on a copy of a slice from a DataFrame\n",
      "\n",
      "See the caveats in the documentation: https://pandas.pydata.org/pandas-docs/stable/user_guide/indexing.html#returning-a-view-versus-a-copy\n",
      "  df_test['genre'][i] = genre_avg[ii]\n"
     ]
    }
   ],
   "source": [
    "df_train['genre_1'] = df_train['genre'].copy()\n",
    "df_test['genre_1'] = df_test['genre'].copy()\n",
    "\n",
    "for i in range(len(df_train)):\n",
    "    for ii in range(len(genre_name)):\n",
    "        if df_train['genre'][i] == genre_name[ii]:\n",
    "            df_train['genre'][i] = genre_avg[ii]\n",
    "\n",
    "for i in range(len(df_test)):\n",
    "    for ii in range(len(genre_name)):\n",
    "        if df_test['genre'][i] == genre_name[ii]:\n",
    "            df_test['genre'][i] = genre_avg[ii]"
   ]
  },
  {
   "cell_type": "code",
   "execution_count": 29,
   "id": "97b43d35",
   "metadata": {},
   "outputs": [],
   "source": [
    "df_train['genre'] = df_train['genre'].astype(float)\n",
    "df_test['genre'] = df_test['genre'].astype(float)\n",
    "\n",
    "# df_train['genre_1'] = df_train['genre_1'].astype(float)\n",
    "# df_test['genre_1'] = df_test['genre_1'].astype(float)"
   ]
  },
  {
   "cell_type": "markdown",
   "id": "b6e3c767",
   "metadata": {},
   "source": [
    "#### director 처리를 어떻게 해야할까? "
   ]
  },
  {
   "cell_type": "code",
   "execution_count": 30,
   "id": "9a23b01f",
   "metadata": {},
   "outputs": [
    {
     "data": {
      "text/plain": [
       "78"
      ]
     },
     "execution_count": 30,
     "metadata": {},
     "output_type": "execute_result"
    }
   ],
   "source": [
    "len(set(df_train['director']) & set(df_test['director']) )"
   ]
  },
  {
   "cell_type": "code",
   "execution_count": 31,
   "id": "79023cc9",
   "metadata": {},
   "outputs": [
    {
     "data": {
      "text/plain": [
       "394"
      ]
     },
     "execution_count": 31,
     "metadata": {},
     "output_type": "execute_result"
    }
   ],
   "source": [
    "len(set(df_train['director']) - set(df_test['director']) )"
   ]
  },
  {
   "cell_type": "code",
   "execution_count": 32,
   "id": "4c4f5b0d",
   "metadata": {},
   "outputs": [
    {
     "data": {
      "text/plain": [
       "142"
      ]
     },
     "execution_count": 32,
     "metadata": {},
     "output_type": "execute_result"
    }
   ],
   "source": [
    "len(set(df_test['director']) - set(df_train['director']) )"
   ]
  },
  {
   "cell_type": "code",
   "execution_count": 33,
   "id": "c9bd7965",
   "metadata": {},
   "outputs": [],
   "source": [
    "df_train.drop(columns=['director'], inplace=True)\n",
    "df_test.drop(columns=['director'], inplace=True)"
   ]
  },
  {
   "cell_type": "markdown",
   "id": "c4943807",
   "metadata": {},
   "source": [
    "#### Label encoding - release_time 수정하기"
   ]
  },
  {
   "cell_type": "code",
   "execution_count": 34,
   "id": "23249b47",
   "metadata": {},
   "outputs": [],
   "source": [
    "df_train['release_time'] = [i[:-3] for i in df_train['release_time']]\n",
    "df_test['release_time'] = [i[:-3] for i in df_test['release_time']]"
   ]
  },
  {
   "cell_type": "code",
   "execution_count": 35,
   "id": "d74baed1",
   "metadata": {},
   "outputs": [
    {
     "data": {
      "text/plain": [
       "array(['2010-01', '2010-02', '2010-03', '2010-04', '2010-05', '2010-06',\n",
       "       '2010-07', '2010-08', '2010-09', '2010-10', '2010-11', '2010-12',\n",
       "       '2011-01', '2011-02', '2011-03', '2011-04', '2011-05', '2011-06',\n",
       "       '2011-07', '2011-08', '2011-09', '2011-10', '2011-11', '2011-12',\n",
       "       '2012-01', '2012-02', '2012-03', '2012-04', '2012-05', '2012-06',\n",
       "       '2012-07', '2012-08', '2012-09', '2012-10', '2012-11', '2012-12',\n",
       "       '2013-01', '2013-02', '2013-03', '2013-04', '2013-05', '2013-06',\n",
       "       '2013-07', '2013-08', '2013-09', '2013-10', '2013-11', '2013-12',\n",
       "       '2014-01', '2014-02', '2014-03', '2014-04', '2014-05', '2014-06',\n",
       "       '2014-07', '2014-08', '2014-09', '2014-10', '2014-11', '2014-12',\n",
       "       '2015-01', '2015-02', '2015-03', '2015-04', '2015-05', '2015-06',\n",
       "       '2015-07', '2015-08', '2015-09', '2015-10', '2015-11', '2015-12'],\n",
       "      dtype=object)"
      ]
     },
     "execution_count": 35,
     "metadata": {},
     "output_type": "execute_result"
    }
   ],
   "source": [
    "df_train.sort_values(by='release_time')['release_time'].unique()"
   ]
  },
  {
   "cell_type": "code",
   "execution_count": 36,
   "id": "0817c236",
   "metadata": {},
   "outputs": [
    {
     "data": {
      "text/plain": [
       "array(['2010-01', '2010-02', '2010-03', '2010-04', '2010-05', '2010-06',\n",
       "       '2010-08', '2010-09', '2010-10', '2010-11', '2010-12', '2011-01',\n",
       "       '2011-02', '2011-03', '2011-04', '2011-05', '2011-06', '2011-07',\n",
       "       '2011-08', '2011-09', '2011-10', '2011-11', '2011-12', '2012-01',\n",
       "       '2012-02', '2012-03', '2012-04', '2012-05', '2012-06', '2012-08',\n",
       "       '2012-09', '2012-10', '2012-11', '2012-12', '2013-01', '2013-02',\n",
       "       '2013-03', '2013-05', '2013-06', '2013-07', '2013-08', '2013-10',\n",
       "       '2013-11', '2013-12', '2014-01', '2014-02', '2014-03', '2014-04',\n",
       "       '2014-05', '2014-06', '2014-07', '2014-08', '2014-09', '2014-10',\n",
       "       '2014-11', '2014-12', '2015-01', '2015-02', '2015-03', '2015-04',\n",
       "       '2015-05', '2015-06', '2015-07', '2015-08', '2015-09', '2015-10',\n",
       "       '2015-11', '2015-12'], dtype=object)"
      ]
     },
     "execution_count": 36,
     "metadata": {},
     "output_type": "execute_result"
    }
   ],
   "source": [
    "df_test.sort_values(by='release_time')['release_time'].unique()"
   ]
  },
  {
   "cell_type": "code",
   "execution_count": 37,
   "id": "a8c9997e",
   "metadata": {},
   "outputs": [
    {
     "data": {
      "text/plain": [
       "{'2010-07', '2012-07', '2013-04', '2013-09'}"
      ]
     },
     "execution_count": 37,
     "metadata": {},
     "output_type": "execute_result"
    }
   ],
   "source": [
    "set(df_train.sort_values(by='release_time')['release_time']) - set(df_test.sort_values(by='release_time')['release_time'])"
   ]
  },
  {
   "cell_type": "code",
   "execution_count": 38,
   "id": "68b875c8",
   "metadata": {},
   "outputs": [
    {
     "data": {
      "text/plain": [
       "set()"
      ]
     },
     "execution_count": 38,
     "metadata": {},
     "output_type": "execute_result"
    }
   ],
   "source": [
    "set(df_test.sort_values(by='release_time')['release_time']) - set(df_train.sort_values(by='release_time')['release_time'])"
   ]
  },
  {
   "cell_type": "code",
   "execution_count": 39,
   "id": "b13a273e",
   "metadata": {},
   "outputs": [
    {
     "data": {
      "text/html": [
       "<div>\n",
       "<style scoped>\n",
       "    .dataframe tbody tr th:only-of-type {\n",
       "        vertical-align: middle;\n",
       "    }\n",
       "\n",
       "    .dataframe tbody tr th {\n",
       "        vertical-align: top;\n",
       "    }\n",
       "\n",
       "    .dataframe thead th {\n",
       "        text-align: right;\n",
       "    }\n",
       "</style>\n",
       "<table border=\"1\" class=\"dataframe\">\n",
       "  <thead>\n",
       "    <tr style=\"text-align: right;\">\n",
       "      <th></th>\n",
       "      <th>distributor</th>\n",
       "      <th>genre</th>\n",
       "      <th>release_time</th>\n",
       "      <th>time</th>\n",
       "      <th>screening_rat</th>\n",
       "      <th>dir_prev_bfnum</th>\n",
       "      <th>dir_prev_num</th>\n",
       "      <th>num_staff</th>\n",
       "      <th>num_actor</th>\n",
       "      <th>genre_1</th>\n",
       "    </tr>\n",
       "  </thead>\n",
       "  <tbody>\n",
       "    <tr>\n",
       "      <th>0</th>\n",
       "      <td>8.968432e+05</td>\n",
       "      <td>2.263695e+06</td>\n",
       "      <td>2010-01</td>\n",
       "      <td>125</td>\n",
       "      <td>청소년 관람불가</td>\n",
       "      <td>3.005290e+05</td>\n",
       "      <td>2</td>\n",
       "      <td>304</td>\n",
       "      <td>3</td>\n",
       "      <td>느와르</td>\n",
       "    </tr>\n",
       "    <tr>\n",
       "      <th>1</th>\n",
       "      <td>3.386656e+06</td>\n",
       "      <td>4.259680e+05</td>\n",
       "      <td>2010-01</td>\n",
       "      <td>113</td>\n",
       "      <td>12세 관람가</td>\n",
       "      <td>3.427002e+05</td>\n",
       "      <td>4</td>\n",
       "      <td>275</td>\n",
       "      <td>3</td>\n",
       "      <td>멜로/로맨스</td>\n",
       "    </tr>\n",
       "    <tr>\n",
       "      <th>2</th>\n",
       "      <td>2.162742e+06</td>\n",
       "      <td>6.256898e+05</td>\n",
       "      <td>2010-01</td>\n",
       "      <td>115</td>\n",
       "      <td>12세 관람가</td>\n",
       "      <td>4.206611e+06</td>\n",
       "      <td>3</td>\n",
       "      <td>419</td>\n",
       "      <td>7</td>\n",
       "      <td>드라마</td>\n",
       "    </tr>\n",
       "    <tr>\n",
       "      <th>3</th>\n",
       "      <td>3.386656e+06</td>\n",
       "      <td>2.203974e+06</td>\n",
       "      <td>2010-02</td>\n",
       "      <td>116</td>\n",
       "      <td>15세 관람가</td>\n",
       "      <td>6.913420e+05</td>\n",
       "      <td>2</td>\n",
       "      <td>408</td>\n",
       "      <td>2</td>\n",
       "      <td>액션</td>\n",
       "    </tr>\n",
       "    <tr>\n",
       "      <th>4</th>\n",
       "      <td>2.162742e+06</td>\n",
       "      <td>5.908325e+05</td>\n",
       "      <td>2010-02</td>\n",
       "      <td>110</td>\n",
       "      <td>15세 관람가</td>\n",
       "      <td>3.173800e+04</td>\n",
       "      <td>1</td>\n",
       "      <td>380</td>\n",
       "      <td>1</td>\n",
       "      <td>공포</td>\n",
       "    </tr>\n",
       "    <tr>\n",
       "      <th>...</th>\n",
       "      <td>...</td>\n",
       "      <td>...</td>\n",
       "      <td>...</td>\n",
       "      <td>...</td>\n",
       "      <td>...</td>\n",
       "      <td>...</td>\n",
       "      <td>...</td>\n",
       "      <td>...</td>\n",
       "      <td>...</td>\n",
       "      <td>...</td>\n",
       "    </tr>\n",
       "    <tr>\n",
       "      <th>238</th>\n",
       "      <td>3.598333e+03</td>\n",
       "      <td>6.256898e+05</td>\n",
       "      <td>2015-11</td>\n",
       "      <td>78</td>\n",
       "      <td>15세 관람가</td>\n",
       "      <td>2.590000e+03</td>\n",
       "      <td>1</td>\n",
       "      <td>4</td>\n",
       "      <td>4</td>\n",
       "      <td>드라마</td>\n",
       "    </tr>\n",
       "    <tr>\n",
       "      <th>239</th>\n",
       "      <td>5.210577e+03</td>\n",
       "      <td>6.717226e+04</td>\n",
       "      <td>2015-10</td>\n",
       "      <td>86</td>\n",
       "      <td>12세 관람가</td>\n",
       "      <td>0.000000e+00</td>\n",
       "      <td>0</td>\n",
       "      <td>18</td>\n",
       "      <td>2</td>\n",
       "      <td>다큐멘터리</td>\n",
       "    </tr>\n",
       "    <tr>\n",
       "      <th>240</th>\n",
       "      <td>3.598333e+03</td>\n",
       "      <td>2.263695e+06</td>\n",
       "      <td>2015-10</td>\n",
       "      <td>107</td>\n",
       "      <td>청소년 관람불가</td>\n",
       "      <td>0.000000e+00</td>\n",
       "      <td>0</td>\n",
       "      <td>224</td>\n",
       "      <td>4</td>\n",
       "      <td>느와르</td>\n",
       "    </tr>\n",
       "    <tr>\n",
       "      <th>241</th>\n",
       "      <td>3.598333e+03</td>\n",
       "      <td>6.256898e+05</td>\n",
       "      <td>2015-10</td>\n",
       "      <td>102</td>\n",
       "      <td>청소년 관람불가</td>\n",
       "      <td>5.069900e+04</td>\n",
       "      <td>1</td>\n",
       "      <td>68</td>\n",
       "      <td>7</td>\n",
       "      <td>드라마</td>\n",
       "    </tr>\n",
       "    <tr>\n",
       "      <th>242</th>\n",
       "      <td>1.027286e+03</td>\n",
       "      <td>4.259680e+05</td>\n",
       "      <td>2015-10</td>\n",
       "      <td>76</td>\n",
       "      <td>청소년 관람불가</td>\n",
       "      <td>0.000000e+00</td>\n",
       "      <td>0</td>\n",
       "      <td>10</td>\n",
       "      <td>4</td>\n",
       "      <td>멜로/로맨스</td>\n",
       "    </tr>\n",
       "  </tbody>\n",
       "</table>\n",
       "<p>243 rows × 10 columns</p>\n",
       "</div>"
      ],
      "text/plain": [
       "      distributor         genre release_time  time screening_rat  \\\n",
       "0    8.968432e+05  2.263695e+06      2010-01   125      청소년 관람불가   \n",
       "1    3.386656e+06  4.259680e+05      2010-01   113       12세 관람가   \n",
       "2    2.162742e+06  6.256898e+05      2010-01   115       12세 관람가   \n",
       "3    3.386656e+06  2.203974e+06      2010-02   116       15세 관람가   \n",
       "4    2.162742e+06  5.908325e+05      2010-02   110       15세 관람가   \n",
       "..            ...           ...          ...   ...           ...   \n",
       "238  3.598333e+03  6.256898e+05      2015-11    78       15세 관람가   \n",
       "239  5.210577e+03  6.717226e+04      2015-10    86       12세 관람가   \n",
       "240  3.598333e+03  2.263695e+06      2015-10   107      청소년 관람불가   \n",
       "241  3.598333e+03  6.256898e+05      2015-10   102      청소년 관람불가   \n",
       "242  1.027286e+03  4.259680e+05      2015-10    76      청소년 관람불가   \n",
       "\n",
       "     dir_prev_bfnum  dir_prev_num  num_staff  num_actor genre_1  \n",
       "0      3.005290e+05             2        304          3     느와르  \n",
       "1      3.427002e+05             4        275          3  멜로/로맨스  \n",
       "2      4.206611e+06             3        419          7     드라마  \n",
       "3      6.913420e+05             2        408          2      액션  \n",
       "4      3.173800e+04             1        380          1      공포  \n",
       "..              ...           ...        ...        ...     ...  \n",
       "238    2.590000e+03             1          4          4     드라마  \n",
       "239    0.000000e+00             0         18          2   다큐멘터리  \n",
       "240    0.000000e+00             0        224          4     느와르  \n",
       "241    5.069900e+04             1         68          7     드라마  \n",
       "242    0.000000e+00             0         10          4  멜로/로맨스  \n",
       "\n",
       "[243 rows x 10 columns]"
      ]
     },
     "execution_count": 39,
     "metadata": {},
     "output_type": "execute_result"
    }
   ],
   "source": [
    "df_test"
   ]
  },
  {
   "cell_type": "code",
   "execution_count": 40,
   "id": "77fa5b30",
   "metadata": {},
   "outputs": [
    {
     "name": "stderr",
     "output_type": "stream",
     "text": [
      "C:\\Users\\HPE\\AppData\\Local\\Temp/ipykernel_1536/3870617905.py:7: SettingWithCopyWarning: \n",
      "A value is trying to be set on a copy of a slice from a DataFrame\n",
      "\n",
      "See the caveats in the documentation: https://pandas.pydata.org/pandas-docs/stable/user_guide/indexing.html#returning-a-view-versus-a-copy\n",
      "  df_train['release_time'][i] = ii\n",
      "C:\\Users\\HPE\\AppData\\Local\\Temp/ipykernel_1536/3870617905.py:12: SettingWithCopyWarning: \n",
      "A value is trying to be set on a copy of a slice from a DataFrame\n",
      "\n",
      "See the caveats in the documentation: https://pandas.pydata.org/pandas-docs/stable/user_guide/indexing.html#returning-a-view-versus-a-copy\n",
      "  df_test['release_time'][i] = ii\n"
     ]
    }
   ],
   "source": [
    "release_label = list(range(len(df_train.sort_values(by='release_time')['release_time'].unique())))\n",
    "release_label_date = sorted(list(set(df_train.sort_values(by='release_time')['release_time'])))\n",
    "\n",
    "for i in range(len(df_train)):\n",
    "    for ii in range(len(release_label_date)):\n",
    "        if df_train['release_time'][i] == release_label_date[ii]:\n",
    "            df_train['release_time'][i] = ii\n",
    "\n",
    "for i in range(len(df_test)):\n",
    "    for ii in range(len(release_label_date)):\n",
    "        if df_test['release_time'][i] == release_label_date[ii]:\n",
    "            df_test['release_time'][i] = ii"
   ]
  },
  {
   "cell_type": "code",
   "execution_count": 41,
   "id": "9f75fcc6",
   "metadata": {},
   "outputs": [],
   "source": [
    "df_train['release_time'] = df_train['release_time'].astype(int)\n",
    "df_test['release_time'] = df_test['release_time'].astype(int)"
   ]
  },
  {
   "cell_type": "code",
   "execution_count": 42,
   "id": "095afb3f",
   "metadata": {},
   "outputs": [
    {
     "data": {
      "text/plain": [
       "array([8.96843167e+05, 3.38665631e+06, 2.16274246e+06, 3.59833333e+03,\n",
       "       3.61850000e+03, 9.63439000e+05, 4.56663600e+05, 5.36137500e+03,\n",
       "       1.23814894e+06, 3.52930000e+03, 2.63482300e+06, 3.23422069e+04,\n",
       "       6.14000000e+02, 4.60000000e+01, 1.01901662e+06, 5.21057692e+03,\n",
       "       1.55281000e+05, 6.77180000e+03, 1.42600000e+03, 9.60090000e+03,\n",
       "       5.58120000e+03, 4.50269167e+05, 1.88000000e+02, 4.12233700e+06,\n",
       "       2.18440483e+06, 4.64500000e+02, 4.37320000e+03, 6.10000000e+02,\n",
       "       7.23307500e+05, 3.58085000e+04, 3.31350000e+04, 3.56616667e+03,\n",
       "       1.26416000e+04, 2.61560000e+04, 8.68000000e+02, 4.65133333e+04,\n",
       "       4.61651667e+04, 4.74426875e+05, 2.80200000e+03, 1.31550000e+03,\n",
       "       2.86500000e+03, 1.55720000e+04, 1.02728571e+03, 1.21700000e+03,\n",
       "       1.39150000e+03, 7.55184000e+05, 2.38020000e+04, 1.78454000e+05,\n",
       "       1.63704600e+06, 1.78266667e+03, 1.31818860e+06, 6.00000000e+02,\n",
       "       5.17600000e+04, 3.24584600e+05, 5.32350000e+04, 5.25330500e+05,\n",
       "       1.56152500e+04, 8.75700000e+03, 8.19800000e+03])"
      ]
     },
     "execution_count": 42,
     "metadata": {},
     "output_type": "execute_result"
    }
   ],
   "source": [
    "df_test['distributor'].unique()"
   ]
  },
  {
   "cell_type": "markdown",
   "id": "7b83513d",
   "metadata": {},
   "source": [
    "#### Label encoding - screening_rat "
   ]
  },
  {
   "cell_type": "code",
   "execution_count": 43,
   "id": "33cd6a98",
   "metadata": {},
   "outputs": [],
   "source": [
    "feature = ['screening_rat', 'genre_1']\n",
    "\n",
    "for i in feature:\n",
    "    le = LabelEncoder()\n",
    "    le = le.fit(df_train[i])\n",
    "    df_train[i] = le.transform(df_train[i])\n",
    "    df_test[i] = le.transform(df_test[i])"
   ]
  },
  {
   "cell_type": "markdown",
   "id": "482842dd",
   "metadata": {},
   "source": []
  },
  {
   "cell_type": "code",
   "execution_count": 44,
   "id": "46fe55fc",
   "metadata": {},
   "outputs": [
    {
     "data": {
      "text/html": [
       "<div>\n",
       "<style scoped>\n",
       "    .dataframe tbody tr th:only-of-type {\n",
       "        vertical-align: middle;\n",
       "    }\n",
       "\n",
       "    .dataframe tbody tr th {\n",
       "        vertical-align: top;\n",
       "    }\n",
       "\n",
       "    .dataframe thead th {\n",
       "        text-align: right;\n",
       "    }\n",
       "</style>\n",
       "<table border=\"1\" class=\"dataframe\">\n",
       "  <thead>\n",
       "    <tr style=\"text-align: right;\">\n",
       "      <th></th>\n",
       "      <th>distributor</th>\n",
       "      <th>genre</th>\n",
       "      <th>release_time</th>\n",
       "      <th>time</th>\n",
       "      <th>screening_rat</th>\n",
       "      <th>dir_prev_bfnum</th>\n",
       "      <th>dir_prev_num</th>\n",
       "      <th>num_staff</th>\n",
       "      <th>num_actor</th>\n",
       "      <th>box_off_num</th>\n",
       "      <th>genre_1</th>\n",
       "    </tr>\n",
       "  </thead>\n",
       "  <tbody>\n",
       "    <tr>\n",
       "      <th>0</th>\n",
       "      <td>1.238149e+06</td>\n",
       "      <td>2.203974e+06</td>\n",
       "      <td>34</td>\n",
       "      <td>96</td>\n",
       "      <td>3</td>\n",
       "      <td>0.00</td>\n",
       "      <td>0</td>\n",
       "      <td>91</td>\n",
       "      <td>2</td>\n",
       "      <td>23398</td>\n",
       "      <td>10</td>\n",
       "    </tr>\n",
       "    <tr>\n",
       "      <th>1</th>\n",
       "      <td>3.386656e+06</td>\n",
       "      <td>2.263695e+06</td>\n",
       "      <td>70</td>\n",
       "      <td>130</td>\n",
       "      <td>3</td>\n",
       "      <td>1161602.50</td>\n",
       "      <td>2</td>\n",
       "      <td>387</td>\n",
       "      <td>3</td>\n",
       "      <td>7072501</td>\n",
       "      <td>2</td>\n",
       "    </tr>\n",
       "    <tr>\n",
       "      <th>2</th>\n",
       "      <td>3.386656e+06</td>\n",
       "      <td>2.203974e+06</td>\n",
       "      <td>41</td>\n",
       "      <td>123</td>\n",
       "      <td>1</td>\n",
       "      <td>220775.25</td>\n",
       "      <td>4</td>\n",
       "      <td>343</td>\n",
       "      <td>4</td>\n",
       "      <td>6959083</td>\n",
       "      <td>10</td>\n",
       "    </tr>\n",
       "    <tr>\n",
       "      <th>3</th>\n",
       "      <td>2.184405e+06</td>\n",
       "      <td>1.193914e+06</td>\n",
       "      <td>30</td>\n",
       "      <td>101</td>\n",
       "      <td>2</td>\n",
       "      <td>23894.00</td>\n",
       "      <td>2</td>\n",
       "      <td>20</td>\n",
       "      <td>6</td>\n",
       "      <td>217866</td>\n",
       "      <td>11</td>\n",
       "    </tr>\n",
       "    <tr>\n",
       "      <th>4</th>\n",
       "      <td>2.634823e+06</td>\n",
       "      <td>1.193914e+06</td>\n",
       "      <td>10</td>\n",
       "      <td>108</td>\n",
       "      <td>1</td>\n",
       "      <td>1.00</td>\n",
       "      <td>1</td>\n",
       "      <td>251</td>\n",
       "      <td>2</td>\n",
       "      <td>483387</td>\n",
       "      <td>11</td>\n",
       "    </tr>\n",
       "    <tr>\n",
       "      <th>...</th>\n",
       "      <td>...</td>\n",
       "      <td>...</td>\n",
       "      <td>...</td>\n",
       "      <td>...</td>\n",
       "      <td>...</td>\n",
       "      <td>...</td>\n",
       "      <td>...</td>\n",
       "      <td>...</td>\n",
       "      <td>...</td>\n",
       "      <td>...</td>\n",
       "      <td>...</td>\n",
       "    </tr>\n",
       "    <tr>\n",
       "      <th>595</th>\n",
       "      <td>2.184405e+06</td>\n",
       "      <td>6.256898e+05</td>\n",
       "      <td>55</td>\n",
       "      <td>111</td>\n",
       "      <td>3</td>\n",
       "      <td>3833.00</td>\n",
       "      <td>1</td>\n",
       "      <td>510</td>\n",
       "      <td>7</td>\n",
       "      <td>1475091</td>\n",
       "      <td>4</td>\n",
       "    </tr>\n",
       "    <tr>\n",
       "      <th>596</th>\n",
       "      <td>3.386656e+06</td>\n",
       "      <td>6.256898e+05</td>\n",
       "      <td>38</td>\n",
       "      <td>127</td>\n",
       "      <td>1</td>\n",
       "      <td>496061.00</td>\n",
       "      <td>1</td>\n",
       "      <td>286</td>\n",
       "      <td>6</td>\n",
       "      <td>1716438</td>\n",
       "      <td>4</td>\n",
       "    </tr>\n",
       "    <tr>\n",
       "      <th>597</th>\n",
       "      <td>3.234221e+04</td>\n",
       "      <td>5.908325e+05</td>\n",
       "      <td>8</td>\n",
       "      <td>99</td>\n",
       "      <td>3</td>\n",
       "      <td>0.00</td>\n",
       "      <td>0</td>\n",
       "      <td>123</td>\n",
       "      <td>4</td>\n",
       "      <td>2475</td>\n",
       "      <td>1</td>\n",
       "    </tr>\n",
       "    <tr>\n",
       "      <th>598</th>\n",
       "      <td>2.162742e+06</td>\n",
       "      <td>2.263695e+06</td>\n",
       "      <td>64</td>\n",
       "      <td>102</td>\n",
       "      <td>1</td>\n",
       "      <td>0.00</td>\n",
       "      <td>0</td>\n",
       "      <td>431</td>\n",
       "      <td>4</td>\n",
       "      <td>2192525</td>\n",
       "      <td>2</td>\n",
       "    </tr>\n",
       "    <tr>\n",
       "      <th>599</th>\n",
       "      <td>2.162742e+06</td>\n",
       "      <td>2.203974e+06</td>\n",
       "      <td>36</td>\n",
       "      <td>120</td>\n",
       "      <td>1</td>\n",
       "      <td>0.00</td>\n",
       "      <td>0</td>\n",
       "      <td>363</td>\n",
       "      <td>5</td>\n",
       "      <td>7166532</td>\n",
       "      <td>10</td>\n",
       "    </tr>\n",
       "  </tbody>\n",
       "</table>\n",
       "<p>600 rows × 11 columns</p>\n",
       "</div>"
      ],
      "text/plain": [
       "      distributor         genre  release_time  time  screening_rat  \\\n",
       "0    1.238149e+06  2.203974e+06            34    96              3   \n",
       "1    3.386656e+06  2.263695e+06            70   130              3   \n",
       "2    3.386656e+06  2.203974e+06            41   123              1   \n",
       "3    2.184405e+06  1.193914e+06            30   101              2   \n",
       "4    2.634823e+06  1.193914e+06            10   108              1   \n",
       "..            ...           ...           ...   ...            ...   \n",
       "595  2.184405e+06  6.256898e+05            55   111              3   \n",
       "596  3.386656e+06  6.256898e+05            38   127              1   \n",
       "597  3.234221e+04  5.908325e+05             8    99              3   \n",
       "598  2.162742e+06  2.263695e+06            64   102              1   \n",
       "599  2.162742e+06  2.203974e+06            36   120              1   \n",
       "\n",
       "     dir_prev_bfnum  dir_prev_num  num_staff  num_actor  box_off_num  genre_1  \n",
       "0              0.00             0         91          2        23398       10  \n",
       "1        1161602.50             2        387          3      7072501        2  \n",
       "2         220775.25             4        343          4      6959083       10  \n",
       "3          23894.00             2         20          6       217866       11  \n",
       "4              1.00             1        251          2       483387       11  \n",
       "..              ...           ...        ...        ...          ...      ...  \n",
       "595         3833.00             1        510          7      1475091        4  \n",
       "596       496061.00             1        286          6      1716438        4  \n",
       "597            0.00             0        123          4         2475        1  \n",
       "598            0.00             0        431          4      2192525        2  \n",
       "599            0.00             0        363          5      7166532       10  \n",
       "\n",
       "[600 rows x 11 columns]"
      ]
     },
     "execution_count": 44,
     "metadata": {},
     "output_type": "execute_result"
    }
   ],
   "source": [
    "df_train"
   ]
  },
  {
   "cell_type": "code",
   "execution_count": 45,
   "id": "e63f056f",
   "metadata": {},
   "outputs": [
    {
     "data": {
      "text/html": [
       "<div>\n",
       "<style scoped>\n",
       "    .dataframe tbody tr th:only-of-type {\n",
       "        vertical-align: middle;\n",
       "    }\n",
       "\n",
       "    .dataframe tbody tr th {\n",
       "        vertical-align: top;\n",
       "    }\n",
       "\n",
       "    .dataframe thead th {\n",
       "        text-align: right;\n",
       "    }\n",
       "</style>\n",
       "<table border=\"1\" class=\"dataframe\">\n",
       "  <thead>\n",
       "    <tr style=\"text-align: right;\">\n",
       "      <th></th>\n",
       "      <th>distributor</th>\n",
       "      <th>genre</th>\n",
       "      <th>release_time</th>\n",
       "      <th>time</th>\n",
       "      <th>screening_rat</th>\n",
       "      <th>dir_prev_bfnum</th>\n",
       "      <th>dir_prev_num</th>\n",
       "      <th>num_staff</th>\n",
       "      <th>num_actor</th>\n",
       "      <th>genre_1</th>\n",
       "    </tr>\n",
       "  </thead>\n",
       "  <tbody>\n",
       "    <tr>\n",
       "      <th>0</th>\n",
       "      <td>8.968432e+05</td>\n",
       "      <td>2.263695e+06</td>\n",
       "      <td>0</td>\n",
       "      <td>125</td>\n",
       "      <td>3</td>\n",
       "      <td>3.005290e+05</td>\n",
       "      <td>2</td>\n",
       "      <td>304</td>\n",
       "      <td>3</td>\n",
       "      <td>2</td>\n",
       "    </tr>\n",
       "    <tr>\n",
       "      <th>1</th>\n",
       "      <td>3.386656e+06</td>\n",
       "      <td>4.259680e+05</td>\n",
       "      <td>0</td>\n",
       "      <td>113</td>\n",
       "      <td>0</td>\n",
       "      <td>3.427002e+05</td>\n",
       "      <td>4</td>\n",
       "      <td>275</td>\n",
       "      <td>3</td>\n",
       "      <td>5</td>\n",
       "    </tr>\n",
       "    <tr>\n",
       "      <th>2</th>\n",
       "      <td>2.162742e+06</td>\n",
       "      <td>6.256898e+05</td>\n",
       "      <td>0</td>\n",
       "      <td>115</td>\n",
       "      <td>0</td>\n",
       "      <td>4.206611e+06</td>\n",
       "      <td>3</td>\n",
       "      <td>419</td>\n",
       "      <td>7</td>\n",
       "      <td>4</td>\n",
       "    </tr>\n",
       "    <tr>\n",
       "      <th>3</th>\n",
       "      <td>3.386656e+06</td>\n",
       "      <td>2.203974e+06</td>\n",
       "      <td>1</td>\n",
       "      <td>116</td>\n",
       "      <td>1</td>\n",
       "      <td>6.913420e+05</td>\n",
       "      <td>2</td>\n",
       "      <td>408</td>\n",
       "      <td>2</td>\n",
       "      <td>10</td>\n",
       "    </tr>\n",
       "    <tr>\n",
       "      <th>4</th>\n",
       "      <td>2.162742e+06</td>\n",
       "      <td>5.908325e+05</td>\n",
       "      <td>1</td>\n",
       "      <td>110</td>\n",
       "      <td>1</td>\n",
       "      <td>3.173800e+04</td>\n",
       "      <td>1</td>\n",
       "      <td>380</td>\n",
       "      <td>1</td>\n",
       "      <td>1</td>\n",
       "    </tr>\n",
       "    <tr>\n",
       "      <th>...</th>\n",
       "      <td>...</td>\n",
       "      <td>...</td>\n",
       "      <td>...</td>\n",
       "      <td>...</td>\n",
       "      <td>...</td>\n",
       "      <td>...</td>\n",
       "      <td>...</td>\n",
       "      <td>...</td>\n",
       "      <td>...</td>\n",
       "      <td>...</td>\n",
       "    </tr>\n",
       "    <tr>\n",
       "      <th>238</th>\n",
       "      <td>3.598333e+03</td>\n",
       "      <td>6.256898e+05</td>\n",
       "      <td>70</td>\n",
       "      <td>78</td>\n",
       "      <td>1</td>\n",
       "      <td>2.590000e+03</td>\n",
       "      <td>1</td>\n",
       "      <td>4</td>\n",
       "      <td>4</td>\n",
       "      <td>4</td>\n",
       "    </tr>\n",
       "    <tr>\n",
       "      <th>239</th>\n",
       "      <td>5.210577e+03</td>\n",
       "      <td>6.717226e+04</td>\n",
       "      <td>69</td>\n",
       "      <td>86</td>\n",
       "      <td>0</td>\n",
       "      <td>0.000000e+00</td>\n",
       "      <td>0</td>\n",
       "      <td>18</td>\n",
       "      <td>2</td>\n",
       "      <td>3</td>\n",
       "    </tr>\n",
       "    <tr>\n",
       "      <th>240</th>\n",
       "      <td>3.598333e+03</td>\n",
       "      <td>2.263695e+06</td>\n",
       "      <td>69</td>\n",
       "      <td>107</td>\n",
       "      <td>3</td>\n",
       "      <td>0.000000e+00</td>\n",
       "      <td>0</td>\n",
       "      <td>224</td>\n",
       "      <td>4</td>\n",
       "      <td>2</td>\n",
       "    </tr>\n",
       "    <tr>\n",
       "      <th>241</th>\n",
       "      <td>3.598333e+03</td>\n",
       "      <td>6.256898e+05</td>\n",
       "      <td>69</td>\n",
       "      <td>102</td>\n",
       "      <td>3</td>\n",
       "      <td>5.069900e+04</td>\n",
       "      <td>1</td>\n",
       "      <td>68</td>\n",
       "      <td>7</td>\n",
       "      <td>4</td>\n",
       "    </tr>\n",
       "    <tr>\n",
       "      <th>242</th>\n",
       "      <td>1.027286e+03</td>\n",
       "      <td>4.259680e+05</td>\n",
       "      <td>69</td>\n",
       "      <td>76</td>\n",
       "      <td>3</td>\n",
       "      <td>0.000000e+00</td>\n",
       "      <td>0</td>\n",
       "      <td>10</td>\n",
       "      <td>4</td>\n",
       "      <td>5</td>\n",
       "    </tr>\n",
       "  </tbody>\n",
       "</table>\n",
       "<p>243 rows × 10 columns</p>\n",
       "</div>"
      ],
      "text/plain": [
       "      distributor         genre  release_time  time  screening_rat  \\\n",
       "0    8.968432e+05  2.263695e+06             0   125              3   \n",
       "1    3.386656e+06  4.259680e+05             0   113              0   \n",
       "2    2.162742e+06  6.256898e+05             0   115              0   \n",
       "3    3.386656e+06  2.203974e+06             1   116              1   \n",
       "4    2.162742e+06  5.908325e+05             1   110              1   \n",
       "..            ...           ...           ...   ...            ...   \n",
       "238  3.598333e+03  6.256898e+05            70    78              1   \n",
       "239  5.210577e+03  6.717226e+04            69    86              0   \n",
       "240  3.598333e+03  2.263695e+06            69   107              3   \n",
       "241  3.598333e+03  6.256898e+05            69   102              3   \n",
       "242  1.027286e+03  4.259680e+05            69    76              3   \n",
       "\n",
       "     dir_prev_bfnum  dir_prev_num  num_staff  num_actor  genre_1  \n",
       "0      3.005290e+05             2        304          3        2  \n",
       "1      3.427002e+05             4        275          3        5  \n",
       "2      4.206611e+06             3        419          7        4  \n",
       "3      6.913420e+05             2        408          2       10  \n",
       "4      3.173800e+04             1        380          1        1  \n",
       "..              ...           ...        ...        ...      ...  \n",
       "238    2.590000e+03             1          4          4        4  \n",
       "239    0.000000e+00             0         18          2        3  \n",
       "240    0.000000e+00             0        224          4        2  \n",
       "241    5.069900e+04             1         68          7        4  \n",
       "242    0.000000e+00             0         10          4        5  \n",
       "\n",
       "[243 rows x 10 columns]"
      ]
     },
     "execution_count": 45,
     "metadata": {},
     "output_type": "execute_result"
    }
   ],
   "source": [
    "df_test"
   ]
  },
  {
   "cell_type": "code",
   "execution_count": 46,
   "id": "7207b48c",
   "metadata": {},
   "outputs": [],
   "source": [
    "df_train = df_train[['distributor', 'genre', 'release_time', 'time', 'screening_rat', 'dir_prev_bfnum',\n",
    "       'dir_prev_num', 'num_staff', 'num_actor', 'genre_1', 'box_off_num']]"
   ]
  },
  {
   "cell_type": "markdown",
   "id": "7b702b28",
   "metadata": {},
   "source": [
    "### 이상치 제거"
   ]
  },
  {
   "cell_type": "code",
   "execution_count": 47,
   "id": "a2b0eaa5",
   "metadata": {},
   "outputs": [],
   "source": [
    "x, y= df_train.iloc[:, :-1], df_train.iloc[:, -1]"
   ]
  },
  {
   "cell_type": "code",
   "execution_count": 48,
   "id": "d9dc35ce",
   "metadata": {},
   "outputs": [
    {
     "data": {
      "text/plain": [
       "<AxesSubplot:>"
      ]
     },
     "execution_count": 48,
     "metadata": {},
     "output_type": "execute_result"
    },
    {
     "data": {
      "image/png": "[encoded data removed]",
      "text/plain": [
       "<Figure size 1080x720 with 1 Axes>"
      ]
     },
     "metadata": {
      "needs_background": "light"
     },
     "output_type": "display_data"
    }
   ],
   "source": [
    "plt.figure(figsize=(15,10))\n",
    "sns.boxplot(data=df_train)"
   ]
  },
  {
   "cell_type": "code",
   "execution_count": 49,
   "id": "5278142b",
   "metadata": {},
   "outputs": [],
   "source": [
    "def outliers_iqr(data):\n",
    "    q1, q3 = np.percentile(data, [25, 75])\n",
    "    iqr = q3 - q1\n",
    "    lower_bound = q1 - (iqr * 1.5)\n",
    "    upper_bound = q3 + (iqr * 1.5)\n",
    "    \n",
    "    return np.where((data > upper_bound) | (data < lower_bound))"
   ]
  },
  {
   "cell_type": "code",
   "execution_count": 50,
   "id": "bab28478",
   "metadata": {},
   "outputs": [],
   "source": [
    "dist_index = outliers_iqr(df_train['distributor'])[0]\n",
    "genre_index = outliers_iqr(df_train['genre'])[0]\n",
    "bfnum_index = outliers_iqr(df_train['dir_prev_bfnum'])[0]\n",
    "box_off_index = outliers_iqr(df_train['box_off_num'])[0]"
   ]
  },
  {
   "cell_type": "code",
   "execution_count": 51,
   "id": "087e2522",
   "metadata": {},
   "outputs": [
    {
     "data": {
      "text/plain": [
       "3.386656e+06    26\n",
       "4.122337e+06     2\n",
       "Name: distributor, dtype: int64"
      ]
     },
     "execution_count": 51,
     "metadata": {},
     "output_type": "execute_result"
    }
   ],
   "source": [
    "df_train.loc[dist_index, 'distributor'].value_counts()"
   ]
  },
  {
   "cell_type": "code",
   "execution_count": 52,
   "id": "90554e99",
   "metadata": {},
   "outputs": [
    {
     "data": {
      "text/plain": [
       "3.598333e+03    149\n",
       "2.162742e+06     54\n",
       "1.238149e+06     52\n",
       "2.184405e+06     30\n",
       "3.234221e+04     29\n",
       "5.210577e+03     26\n",
       "3.386656e+06     26\n",
       "4.373200e+03     15\n",
       "1.027286e+03     14\n",
       "3.529300e+03     10\n",
       "9.600900e+03     10\n",
       "6.771800e+03     10\n",
       "4.566636e+05     10\n",
       "5.581200e+03     10\n",
       "1.264160e+04     10\n",
       "2.865000e+03      9\n",
       "4.744269e+05      8\n",
       "1.019017e+06      8\n",
       "5.361375e+03      8\n",
       "3.618500e+03      6\n",
       "8.968432e+05      6\n",
       "3.566167e+03      6\n",
       "4.502692e+05      6\n",
       "1.557200e+04      6\n",
       "4.616517e+04      6\n",
       "1.318189e+06      5\n",
       "3.245846e+05      5\n",
       "1.561525e+04      4\n",
       "5.253305e+05      4\n",
       "2.615600e+04      4\n",
       "7.233075e+05      4\n",
       "3.313500e+04      3\n",
       "1.784540e+05      3\n",
       "7.551840e+05      3\n",
       "4.651333e+04      3\n",
       "1.782667e+03      3\n",
       "9.634390e+05      3\n",
       "1.637046e+06      3\n",
       "2.634823e+06      2\n",
       "4.645000e+02      2\n",
       "3.580850e+04      2\n",
       "4.122337e+06      2\n",
       "1.315500e+03      2\n",
       "1.391500e+03      2\n",
       "8.198000e+03      2\n",
       "6.100000e+02      2\n",
       "2.380200e+04      1\n",
       "6.000000e+02      1\n",
       "1.217000e+03      1\n",
       "6.140000e+02      1\n",
       "4.600000e+01      1\n",
       "5.176000e+04      1\n",
       "2.802000e+03      1\n",
       "1.426000e+03      1\n",
       "1.552810e+05      1\n",
       "5.323500e+04      1\n",
       "8.680000e+02      1\n",
       "8.757000e+03      1\n",
       "1.880000e+02      1\n",
       "Name: distributor, dtype: int64"
      ]
     },
     "execution_count": 52,
     "metadata": {},
     "output_type": "execute_result"
    }
   ],
   "source": [
    "df_train['distributor'].value_counts()"
   ]
  },
  {
   "cell_type": "code",
   "execution_count": 53,
   "id": "c02baba6",
   "metadata": {},
   "outputs": [
    {
     "data": {
      "text/plain": [
       "2.263695e+06    8\n",
       "6.256898e+05    8\n",
       "2.203974e+06    5\n",
       "1.193914e+06    3\n",
       "4.259680e+05    2\n",
       "5.908325e+05    2\n",
       "Name: genre, dtype: int64"
      ]
     },
     "execution_count": 53,
     "metadata": {},
     "output_type": "execute_result"
    }
   ],
   "source": [
    "df_train.loc[dist_index, 'genre'].value_counts()"
   ]
  },
  {
   "cell_type": "code",
   "execution_count": 54,
   "id": "14ce25a0",
   "metadata": {},
   "outputs": [
    {
     "data": {
      "text/plain": [
       "6.256898e+05    221\n",
       "6.717226e+04     93\n",
       "4.259680e+05     78\n",
       "1.193914e+06     53\n",
       "5.908325e+05     42\n",
       "2.203974e+06     28\n",
       "2.263695e+06     27\n",
       "1.819267e+05     21\n",
       "5.275482e+05     17\n",
       "1.788346e+06     13\n",
       "6.627000e+03      5\n",
       "8.261100e+04      2\n",
       "Name: genre, dtype: int64"
      ]
     },
     "execution_count": 54,
     "metadata": {},
     "output_type": "execute_result"
    }
   ],
   "source": [
    "df_train['genre'].value_counts()"
   ]
  },
  {
   "cell_type": "code",
   "execution_count": 55,
   "id": "4e4ca146",
   "metadata": {},
   "outputs": [
    {
     "data": {
      "text/plain": [
       "0.000000e+00    5\n",
       "1.161602e+06    1\n",
       "1.289932e+06    1\n",
       "5.169479e+06    1\n",
       "4.361015e+05    1\n",
       "5.046096e+06    1\n",
       "7.372900e+04    1\n",
       "6.081480e+06    1\n",
       "1.731903e+06    1\n",
       "3.622900e+05    1\n",
       "3.131902e+06    1\n",
       "2.564692e+06    1\n",
       "8.235000e+03    1\n",
       "2.207752e+05    1\n",
       "1.949111e+06    1\n",
       "8.190495e+05    1\n",
       "2.266504e+06    1\n",
       "7.195870e+05    1\n",
       "1.242778e+06    1\n",
       "3.955500e+04    1\n",
       "7.574000e+04    1\n",
       "8.223342e+06    1\n",
       "7.395220e+05    1\n",
       "4.960610e+05    1\n",
       "Name: dir_prev_bfnum, dtype: int64"
      ]
     },
     "execution_count": 55,
     "metadata": {},
     "output_type": "execute_result"
    }
   ],
   "source": [
    "df_train.loc[dist_index, 'dir_prev_bfnum'].value_counts()"
   ]
  },
  {
   "cell_type": "code",
   "execution_count": 56,
   "id": "a0ddcf56",
   "metadata": {},
   "outputs": [
    {
     "data": {
      "text/plain": [
       "0.0          330\n",
       "145.0          3\n",
       "891.0          3\n",
       "984.0          3\n",
       "2270048.5      2\n",
       "            ... \n",
       "1556.0         1\n",
       "35348.0        1\n",
       "1949111.0      1\n",
       "7.0            1\n",
       "496061.0       1\n",
       "Name: dir_prev_bfnum, Length: 246, dtype: int64"
      ]
     },
     "execution_count": 56,
     "metadata": {},
     "output_type": "execute_result"
    }
   ],
   "source": [
    "df_train['dir_prev_bfnum'].value_counts()"
   ]
  },
  {
   "cell_type": "code",
   "execution_count": 57,
   "id": "279a56ee",
   "metadata": {},
   "outputs": [],
   "source": [
    "lead_outlier_index = np.concatenate((genre_index, bfnum_index, box_off_index), axis=None)\n",
    "# lead_outlier_index = np.concatenate((genre_index, bfnum_index), axis=None)"
   ]
  },
  {
   "cell_type": "code",
   "execution_count": 58,
   "id": "542ac5b1",
   "metadata": {},
   "outputs": [],
   "source": [
    "lead_not_outlier_index = []\n",
    "\n",
    "for i in df_train.index:\n",
    "    if i not in lead_outlier_index:\n",
    "        lead_not_outlier_index.append(i)"
   ]
  },
  {
   "cell_type": "code",
   "execution_count": 59,
   "id": "2e2acad0",
   "metadata": {},
   "outputs": [],
   "source": [
    "df_train_clean = df_train.loc[lead_not_outlier_index]\n",
    "df_train_clean = df_train_clean.reset_index(drop=True)"
   ]
  },
  {
   "cell_type": "markdown",
   "id": "2917e3cb",
   "metadata": {},
   "source": [
    "### 비가공 ,표준화, 정규화"
   ]
  },
  {
   "cell_type": "code",
   "execution_count": 60,
   "id": "265b1fbb",
   "metadata": {},
   "outputs": [],
   "source": [
    "# x, y= df_train.iloc[:, :-1], df_train.iloc[:, -1]\n",
    "x, y= df_train_clean.iloc[:, :-1], df_train_clean.iloc[:, -1]"
   ]
  },
  {
   "cell_type": "code",
   "execution_count": 61,
   "id": "d9ad2395",
   "metadata": {},
   "outputs": [],
   "source": [
    "train_x, test_x, train_y, test_y = train_test_split(x, y,\n",
    "                                                   test_size= 0.2, random_state= 200)"
   ]
  },
  {
   "cell_type": "code",
   "execution_count": 62,
   "id": "10a22739",
   "metadata": {},
   "outputs": [],
   "source": [
    "lr = LinearRegression()\n",
    "lr.fit(train_x, train_y)\n",
    "pred_y = lr.predict(test_x)"
   ]
  },
  {
   "cell_type": "code",
   "execution_count": 63,
   "id": "4236ddec",
   "metadata": {},
   "outputs": [],
   "source": [
    "params = {\n",
    "    'learning_rate'      : 0.001,\n",
    "    'boosting'           : 'gbdt',\n",
    "    'objective'          : 'regression',\n",
    "    'max_depth'          : 8,\n",
    "    'metric'             : ['mse','auc'],\n",
    "    'is_training_metric' : True,\n",
    "    'num_leaves'         : 144,\n",
    "    'feature_fraction'   : 0.9,\n",
    "    'bagging_fraction'   : 0.7,\n",
    "    'bagging_freq'       : 5,\n",
    "    'seed'               : 2020,\n",
    "    'force_col_wise'     : 'true'\n",
    "}"
   ]
  },
  {
   "cell_type": "code",
   "execution_count": 64,
   "id": "f66360c6",
   "metadata": {},
   "outputs": [],
   "source": [
    "def get_best_params(model, params):\n",
    "    grid_model = GridSearchCV(model, param_grid=params, scoring='neg_mean_squared_error', cv=5)\n",
    "    grid_model.fit(train_x, train_y)\n",
    "    rmse = np.sqrt(-1* grid_model.best_score_)\n",
    "    print('최적 평균 RMSE 값:', np.round(rmse, 4))\n",
    "    print('최적 r2 값:', grid_model.best_score_)\n",
    "    print('최적 파라미터:', grid_model.best_params_)\n",
    "    \n",
    "    return grid_model.best_estimator_"
   ]
  },
  {
   "cell_type": "code",
   "execution_count": 65,
   "id": "f8f4a77d",
   "metadata": {},
   "outputs": [
    {
     "name": "stdout",
     "output_type": "stream",
     "text": [
      "[LightGBM] [Warning] feature_fraction is set=0.9, colsample_bytree=0.5 will be ignored. Current value: feature_fraction=0.9\n",
      "[LightGBM] [Warning] bagging_fraction is set=0.7, subsample=0.7 will be ignored. Current value: bagging_fraction=0.7\n",
      "[LightGBM] [Warning] feature_fraction is set=0.9, colsample_bytree=0.5 will be ignored. Current value: feature_fraction=0.9\n",
      "[LightGBM] [Warning] bagging_fraction is set=0.7, subsample=0.7 will be ignored. Current value: bagging_fraction=0.7\n",
      "[LightGBM] [Warning] feature_fraction is set=0.9, colsample_bytree=0.5 will be ignored. Current value: feature_fraction=0.9\n",
      "[LightGBM] [Warning] bagging_fraction is set=0.7, subsample=0.7 will be ignored. Current value: bagging_fraction=0.7\n",
      "[LightGBM] [Warning] feature_fraction is set=0.9, colsample_bytree=0.5 will be ignored. Current value: feature_fraction=0.9\n",
      "[LightGBM] [Warning] bagging_fraction is set=0.7, subsample=0.7 will be ignored. Current value: bagging_fraction=0.7\n",
      "[LightGBM] [Warning] feature_fraction is set=0.9, colsample_bytree=0.5 will be ignored. Current value: feature_fraction=0.9\n",
      "[LightGBM] [Warning] bagging_fraction is set=0.7, subsample=0.7 will be ignored. Current value: bagging_fraction=0.7\n",
      "[LightGBM] [Warning] feature_fraction is set=0.9, colsample_bytree=0.5 will be ignored. Current value: feature_fraction=0.9\n",
      "[LightGBM] [Warning] bagging_fraction is set=0.7, subsample=0.7 will be ignored. Current value: bagging_fraction=0.7\n",
      "최적 평균 RMSE 값: 186339.9644\n",
      "최적 r2 값: -34722582324.540215\n",
      "최적 파라미터: {'n_estimators': 3300}\n"
     ]
    }
   ],
   "source": [
    "lgb = lgb.LGBMRegressor()\n",
    "lgbm_params = {'n_estimators':[3300]}\n",
    "\n",
    "lgbm_reg = LGBMRegressor(n_estimators=3300, bagging_fraction=0.7, learning_rate=0.1,\n",
    "                         max_depth=4, subsample=0.7, feature_fraction=0.9, boosting_type='gbdt',\n",
    "                         colsample_bytree=0.5, reg_lambda=5, n_jobs=-1)\n",
    "best_lgbm = get_best_params(lgbm_reg, lgbm_params)"
   ]
  },
  {
   "cell_type": "code",
   "execution_count": 66,
   "id": "a07e49c8",
   "metadata": {},
   "outputs": [
    {
     "ename": "AttributeError",
     "evalue": "'LGBMRegressor' object has no attribute 'Dataset'",
     "output_type": "error",
     "traceback": [
      "\u001b[1;31m---------------------------------------------------------------------------\u001b[0m",
      "\u001b[1;31mAttributeError\u001b[0m                            Traceback (most recent call last)",
      "\u001b[1;32m~\\AppData\\Local\\Temp/ipykernel_1536/3286027679.py\u001b[0m in \u001b[0;36m<module>\u001b[1;34m\u001b[0m\n\u001b[1;32m----> 1\u001b[1;33m \u001b[0mtrain\u001b[0m \u001b[1;33m=\u001b[0m \u001b[0mlgb\u001b[0m\u001b[1;33m.\u001b[0m\u001b[0mDataset\u001b[0m\u001b[1;33m(\u001b[0m\u001b[0mtrain_x\u001b[0m\u001b[1;33m,\u001b[0m \u001b[0mlabel\u001b[0m\u001b[1;33m=\u001b[0m \u001b[0mtrain_y\u001b[0m\u001b[1;33m)\u001b[0m\u001b[1;33m\u001b[0m\u001b[1;33m\u001b[0m\u001b[0m\n\u001b[0m\u001b[0;32m      2\u001b[0m \u001b[0mtest\u001b[0m  \u001b[1;33m=\u001b[0m \u001b[0mlgb\u001b[0m\u001b[1;33m.\u001b[0m\u001b[0mDataset\u001b[0m\u001b[1;33m(\u001b[0m\u001b[0mtest_x\u001b[0m\u001b[1;33m,\u001b[0m \u001b[0mlabel\u001b[0m\u001b[1;33m=\u001b[0m \u001b[0mtest_y\u001b[0m\u001b[1;33m)\u001b[0m\u001b[1;33m\u001b[0m\u001b[1;33m\u001b[0m\u001b[0m\n\u001b[0;32m      3\u001b[0m \u001b[1;33m\u001b[0m\u001b[0m\n\u001b[0;32m      4\u001b[0m \u001b[1;33m\u001b[0m\u001b[0m\n\u001b[0;32m      5\u001b[0m \u001b[1;31m# model_lgb = lgb.train(params, train, 10, test, verbose_eval=10, early_stopping_rounds=100)\u001b[0m\u001b[1;33m\u001b[0m\u001b[1;33m\u001b[0m\u001b[1;33m\u001b[0m\u001b[0m\n",
      "\u001b[1;31mAttributeError\u001b[0m: 'LGBMRegressor' object has no attribute 'Dataset'"
     ]
    }
   ],
   "source": [
    "train = lgb.Dataset(train_x, label= train_y)\n",
    "test  = lgb.Dataset(test_x, label= test_y)\n",
    "\n",
    "\n",
    "# model_lgb = lgb.train(params, train, 10, test, verbose_eval=10, early_stopping_rounds=100)\n",
    "# pred_y_lgb = model_lgb.predict(test_x)\n",
    "\n"
   ]
  },
  {
   "cell_type": "code",
   "execution_count": null,
   "id": "5861cd78",
   "metadata": {},
   "outputs": [],
   "source": [
    "print(\"---------- linear regression -----------\")\n",
    "print(\"훈련세트 점수: {:.2f}\".format( lr.score(train_x, train_y) ))\n",
    "print(\"테스트세트 점수: {:.2f}\".format( lr.score(test_x, test_y) ))\n",
    "print('r2 :', r2_score(test_y, pred_y))\n",
    "\n",
    "print(\"---------- lightgbm -----------\")\n",
    "print('r2 :', r2_score(test_y, pred_y_lgb))\n"
   ]
  },
  {
   "cell_type": "code",
   "execution_count": null,
   "id": "985eb332",
   "metadata": {},
   "outputs": [],
   "source": [
    "df_train.corr(method='pearson')['box_off_num']"
   ]
  },
  {
   "cell_type": "markdown",
   "id": "a31160db",
   "metadata": {},
   "source": [
    "movies_train.csv / movies_test.csv title : 영화의 제목 distributor : 배급사 genre : 장르 release_time : 개봉일 time : 상영시간(분) screening_rat : 상영등급 director : 감독이름 dir_prev_bfnum : 해당 감독이 이 영화를 만들기 전 제작에 참여한 영화에서의 평균 관객수(단 관객수가 알려지지 않은 영화 제외) dir_prev_num : 해당 감독이 이 영화를 만들기 전 제작에 참여한 영화의 개수(단 관객수가 알려지지 않은 영화 제외) num_staff : 스텝수 num_actor : 주연배우수 box_off_num : 관객수"
   ]
  },
  {
   "cell_type": "markdown",
   "id": "d94fbc54",
   "metadata": {},
   "source": [
    "* box_num 포함하고 나머지를 이상치 한 결과\n",
    "\n",
    "훈련세트 점수: 0.56\n",
    "\n",
    "테스트세트 점수: 0.46\n",
    "\n",
    "r2 : 0.46022604126004263\n",
    "\n",
    "* box_num 포함하고 0.2 이하 데이터를 제거 후 결과\n",
    "\n",
    "훈련세트 점수: 0.54\n",
    "\n",
    "테스트세트 점수: 0.44\n",
    "\n",
    "r2 : 0.44056968906221594\n",
    "\n",
    "\n",
    "* box_num 제외하고 나머지를 이상치 한 결과\n",
    "\n",
    "훈련세트 점수: 0.25\n",
    "\n",
    "테스트세트 점수: 0.32\n",
    "\n",
    "r2 : 0.31724832181491625\n",
    "\n",
    "* box_num 제외하고 0.2 이하 데이터를 제거 후 결과\n",
    "훈련세트 점수: 0.25\n",
    "테스트세트 점수: 0.32\n",
    "r2 : 0.3183324719910111\n",
    "\n",
    "훈련세트 점수: 0.25\n",
    "테스트세트 점수: 0.32\n",
    "\n",
    "훈련세트 점수: 0.25\n",
    "테스트세트 점수: 0.32\n",
    "---------- lightgbm -----------\n",
    "r2 : -0.008470124048608252\n"
   ]
  },
  {
   "cell_type": "markdown",
   "id": "9f336cd9",
   "metadata": {},
   "source": [
    "### 상관 계수 (<0.2) 제외 - release_time, num_actor, genre_1"
   ]
  },
  {
   "cell_type": "code",
   "execution_count": null,
   "id": "bf86b67d",
   "metadata": {},
   "outputs": [],
   "source": [
    "# x, y= df_train.iloc[:, :-1], df_train.iloc[:, -1]\n",
    "df_train_clean.drop(columns=['release_time', 'num_actor', 'genre_1'], inplace=True)\n",
    "df_test.drop(columns=['release_time', 'num_actor', 'genre_1'], inplace=True)\n",
    "\n",
    "x, y= df_train_clean.iloc[:, :-1], df_train_clean.iloc[:, -1]\n",
    "\n",
    "\n",
    "\n",
    "train_x, test_x, train_y, test_y = train_test_split(x, y,\n",
    "                                                   test_size= 0.2, random_state= 200)\n",
    "\n",
    "lr = LinearRegression()\n",
    "lr.fit(train_x, train_y)\n",
    "pred_y = lr.predict(test_x)\n",
    "\n",
    "\n",
    "# lgb = lgb.LGBMRegressor()\n",
    "train = lgb.Dataset(train_x, label= train_y)\n",
    "test  = lgb.Dataset(test_x, label= test_y)\n",
    "\n",
    "\n",
    "model_lgb = lgb.train(params, train, 10, test, verbose_eval=10, early_stopping_rounds=100)\n",
    "pred_y_lgb = model_lgb.predict(test_x)\n",
    "\n",
    "\n",
    "print(\"---------- linear regression -----------\")\n",
    "print(\"훈련세트 점수: {:.2f}\".format( lr.score(train_x, train_y) ))\n",
    "print(\"테스트세트 점수: {:.2f}\".format( lr.score(test_x, test_y) ))\n",
    "print('r2 :', r2_score(test_y, pred_y))\n",
    "\n",
    "print(\"---------- lightgbm -----------\")\n",
    "# print(\"훈련세트 점수: {:.2f}\".format( lr.score(train_x, train_y) ))\n",
    "# print(\"테스트세트 점수: {:.2f}\".format( lr.score(test_x, test_y) ))\n",
    "print('r2 :', r2_score(test_y, pred_y_lgb))\n",
    "print()"
   ]
  },
  {
   "cell_type": "code",
   "execution_count": null,
   "id": "d718825c",
   "metadata": {},
   "outputs": [],
   "source": [
    "df_train_clean.corr()"
   ]
  },
  {
   "cell_type": "code",
   "execution_count": null,
   "id": "871e7def",
   "metadata": {},
   "outputs": [],
   "source": []
  }
 ],
 "metadata": {
  "kernelspec": {
   "display_name": "Python 3 (ipykernel)",
   "language": "python",
   "name": "python3"
  },
  "language_info": {
   "codemirror_mode": {
    "name": "ipython",
    "version": 3
   },
   "file_extension": ".py",
   "mimetype": "text/x-python",
   "name": "python",
   "nbconvert_exporter": "python",
   "pygments_lexer": "ipython3",
   "version": "3.8.12"
  }
 },
 "nbformat": 4,
 "nbformat_minor": 5
}
